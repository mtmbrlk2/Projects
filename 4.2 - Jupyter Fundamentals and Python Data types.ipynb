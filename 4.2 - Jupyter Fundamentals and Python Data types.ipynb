{
 "cells": [
  {
   "cell_type": "markdown",
   "id": "07424af1",
   "metadata": {},
   "source": [
    "01. #importing libraries"
   ]
  },
  {
   "cell_type": "code",
   "execution_count": 3,
   "id": "7a9a94d3",
   "metadata": {},
   "outputs": [],
   "source": [
    "# Import libraries\n",
    "import pandas as pd\n",
    "import numpy as np\n",
    "import os"
   ]
  },
  {
   "cell_type": "code",
   "execution_count": 1,
   "id": "42cfdffc",
   "metadata": {},
   "outputs": [
    {
     "data": {
      "text/plain": [
       "100"
      ]
     },
     "execution_count": 1,
     "metadata": {},
     "output_type": "execute_result"
    }
   ],
   "source": [
    "101-1"
   ]
  },
  {
   "cell_type": "code",
   "execution_count": 2,
   "id": "71915e70",
   "metadata": {},
   "outputs": [
    {
     "data": {
      "text/plain": [
       "100"
      ]
     },
     "execution_count": 2,
     "metadata": {},
     "output_type": "execute_result"
    }
   ],
   "source": [
    "50*2"
   ]
  },
  {
   "cell_type": "code",
   "execution_count": 3,
   "id": "213a3afe",
   "metadata": {},
   "outputs": [
    {
     "data": {
      "text/plain": [
       "100.0"
      ]
     },
     "execution_count": 3,
     "metadata": {},
     "output_type": "execute_result"
    }
   ],
   "source": [
    "1000/10"
   ]
  },
  {
   "cell_type": "code",
   "execution_count": 4,
   "id": "e3b3f202",
   "metadata": {},
   "outputs": [
    {
     "data": {
      "text/plain": [
       "100"
      ]
     },
     "execution_count": 4,
     "metadata": {},
     "output_type": "execute_result"
    }
   ],
   "source": [
    "90+10"
   ]
  },
  {
   "cell_type": "code",
   "execution_count": 5,
   "id": "9062047e",
   "metadata": {},
   "outputs": [
    {
     "data": {
      "text/plain": [
       "2.0"
      ]
     },
     "execution_count": 5,
     "metadata": {},
     "output_type": "execute_result"
    }
   ],
   "source": [
    "x = 22\n",
    "y = 11\n",
    "x/y"
   ]
  },
  {
   "cell_type": "code",
   "execution_count": 13,
   "id": "88fafb6b",
   "metadata": {},
   "outputs": [
    {
     "data": {
      "text/plain": [
       "'shortsword = 1d6 piercing damage'"
      ]
     },
     "execution_count": 13,
     "metadata": {},
     "output_type": "execute_result"
    }
   ],
   "source": [
    "a = 'short'\n",
    "b = 'sword = 1d6 piercing damage'\n",
    "a+b"
   ]
  },
  {
   "cell_type": "code",
   "execution_count": 15,
   "id": "8e435184",
   "metadata": {},
   "outputs": [
    {
     "data": {
      "text/plain": [
       "'Smokey is hidden. Therefore, Smokey has advantage on attacks.'"
      ]
     },
     "execution_count": 15,
     "metadata": {},
     "output_type": "execute_result"
    }
   ],
   "source": [
    "c = 'Smokey is hidden. '\n",
    "d = 'Therefore, Smokey has advantage on attacks.'\n",
    "c+d"
   ]
  },
  {
   "cell_type": "code",
   "execution_count": 17,
   "id": "0af87318",
   "metadata": {},
   "outputs": [
    {
     "data": {
      "text/plain": [
       "'sneak attack damage. sneak attack damage. sneak attack damage. sneak attack damage. sneak attack damage. sneak attack damage. sneak attack damage. sneak attack damage. sneak attack damage. sneak attack damage. sneak attack damage. sneak attack damage. sneak attack damage. sneak attack damage. sneak attack damage. sneak attack damage. sneak attack damage. sneak attack damage. sneak attack damage. sneak attack damage. sneak attack damage. sneak attack damage. sneak attack damage. sneak attack damage. sneak attack damage. sneak attack damage. sneak attack damage. sneak attack damage. sneak attack damage. sneak attack damage. sneak attack damage. sneak attack damage. sneak attack damage. sneak attack damage. sneak attack damage. sneak attack damage. sneak attack damage. sneak attack damage. sneak attack damage. sneak attack damage. sneak attack damage. sneak attack damage. sneak attack damage. sneak attack damage. sneak attack damage. sneak attack damage. sneak attack damage. sneak attack damage. sneak attack damage. sneak attack damage. sneak attack damage. sneak attack damage. sneak attack damage. sneak attack damage. sneak attack damage. sneak attack damage. sneak attack damage. sneak attack damage. sneak attack damage. sneak attack damage. sneak attack damage. sneak attack damage. sneak attack damage. sneak attack damage. sneak attack damage. sneak attack damage. sneak attack damage. sneak attack damage. sneak attack damage. sneak attack damage. sneak attack damage. sneak attack damage. sneak attack damage. sneak attack damage. sneak attack damage. sneak attack damage. sneak attack damage. sneak attack damage. sneak attack damage. sneak attack damage. sneak attack damage. sneak attack damage. sneak attack damage. sneak attack damage. sneak attack damage. sneak attack damage. sneak attack damage. sneak attack damage. sneak attack damage. sneak attack damage. sneak attack damage. sneak attack damage. sneak attack damage. sneak attack damage. sneak attack damage. sneak attack damage. sneak attack damage. sneak attack damage. sneak attack damage. sneak attack damage. '"
      ]
     },
     "execution_count": 17,
     "metadata": {},
     "output_type": "execute_result"
    }
   ],
   "source": [
    "e = 'sneak attack damage. '\n",
    "e*100"
   ]
  },
  {
   "cell_type": "code",
   "execution_count": 6,
   "id": "f79f78da",
   "metadata": {},
   "outputs": [
    {
     "data": {
      "text/plain": [
       "'I will make all my scripts relate to D&D I will make all my scripts relate to D&D I will make all my scripts relate to D&D I will make all my scripts relate to D&D I will make all my scripts relate to D&D I will make all my scripts relate to D&D I will make all my scripts relate to D&D I will make all my scripts relate to D&D I will make all my scripts relate to D&D I will make all my scripts relate to D&D I will make all my scripts relate to D&D I will make all my scripts relate to D&D I will make all my scripts relate to D&D I will make all my scripts relate to D&D I will make all my scripts relate to D&D I will make all my scripts relate to D&D I will make all my scripts relate to D&D I will make all my scripts relate to D&D I will make all my scripts relate to D&D I will make all my scripts relate to D&D I will make all my scripts relate to D&D I will make all my scripts relate to D&D I will make all my scripts relate to D&D I will make all my scripts relate to D&D I will make all my scripts relate to D&D I will make all my scripts relate to D&D I will make all my scripts relate to D&D I will make all my scripts relate to D&D I will make all my scripts relate to D&D I will make all my scripts relate to D&D I will make all my scripts relate to D&D I will make all my scripts relate to D&D I will make all my scripts relate to D&D I will make all my scripts relate to D&D I will make all my scripts relate to D&D I will make all my scripts relate to D&D I will make all my scripts relate to D&D I will make all my scripts relate to D&D I will make all my scripts relate to D&D I will make all my scripts relate to D&D I will make all my scripts relate to D&D I will make all my scripts relate to D&D I will make all my scripts relate to D&D I will make all my scripts relate to D&D I will make all my scripts relate to D&D I will make all my scripts relate to D&D I will make all my scripts relate to D&D I will make all my scripts relate to D&D I will make all my scripts relate to D&D I will make all my scripts relate to D&D I will make all my scripts relate to D&D I will make all my scripts relate to D&D I will make all my scripts relate to D&D I will make all my scripts relate to D&D I will make all my scripts relate to D&D I will make all my scripts relate to D&D I will make all my scripts relate to D&D I will make all my scripts relate to D&D I will make all my scripts relate to D&D I will make all my scripts relate to D&D I will make all my scripts relate to D&D I will make all my scripts relate to D&D I will make all my scripts relate to D&D I will make all my scripts relate to D&D I will make all my scripts relate to D&D I will make all my scripts relate to D&D I will make all my scripts relate to D&D I will make all my scripts relate to D&D I will make all my scripts relate to D&D I will make all my scripts relate to D&D I will make all my scripts relate to D&D I will make all my scripts relate to D&D I will make all my scripts relate to D&D I will make all my scripts relate to D&D I will make all my scripts relate to D&D I will make all my scripts relate to D&D I will make all my scripts relate to D&D I will make all my scripts relate to D&D I will make all my scripts relate to D&D I will make all my scripts relate to D&D I will make all my scripts relate to D&D I will make all my scripts relate to D&D I will make all my scripts relate to D&D I will make all my scripts relate to D&D I will make all my scripts relate to D&D I will make all my scripts relate to D&D I will make all my scripts relate to D&D I will make all my scripts relate to D&D I will make all my scripts relate to D&D I will make all my scripts relate to D&D I will make all my scripts relate to D&D I will make all my scripts relate to D&D I will make all my scripts relate to D&D I will make all my scripts relate to D&D I will make all my scripts relate to D&D I will make all my scripts relate to D&D I will make all my scripts relate to D&D I will make all my scripts relate to D&D I will make all my scripts relate to D&D I will make all my scripts relate to D&D I will make all my scripts relate to D&D I will make all my scripts relate to D&D I will make all my scripts relate to D&D I will make all my scripts relate to D&D I will make all my scripts relate to D&D I will make all my scripts relate to D&D I will make all my scripts relate to D&D I will make all my scripts relate to D&D I will make all my scripts relate to D&D I will make all my scripts relate to D&D I will make all my scripts relate to D&D I will make all my scripts relate to D&D I will make all my scripts relate to D&D I will make all my scripts relate to D&D I will make all my scripts relate to D&D I will make all my scripts relate to D&D I will make all my scripts relate to D&D I will make all my scripts relate to D&D I will make all my scripts relate to D&D I will make all my scripts relate to D&D I will make all my scripts relate to D&D I will make all my scripts relate to D&D I will make all my scripts relate to D&D I will make all my scripts relate to D&D I will make all my scripts relate to D&D I will make all my scripts relate to D&D I will make all my scripts relate to D&D I will make all my scripts relate to D&D I will make all my scripts relate to D&D I will make all my scripts relate to D&D I will make all my scripts relate to D&D I will make all my scripts relate to D&D I will make all my scripts relate to D&D I will make all my scripts relate to D&D I will make all my scripts relate to D&D I will make all my scripts relate to D&D I will make all my scripts relate to D&D I will make all my scripts relate to D&D I will make all my scripts relate to D&D I will make all my scripts relate to D&D I will make all my scripts relate to D&D I will make all my scripts relate to D&D I will make all my scripts relate to D&D I will make all my scripts relate to D&D I will make all my scripts relate to D&D I will make all my scripts relate to D&D I will make all my scripts relate to D&D I will make all my scripts relate to D&D I will make all my scripts relate to D&D I will make all my scripts relate to D&D I will make all my scripts relate to D&D I will make all my scripts relate to D&D I will make all my scripts relate to D&D I will make all my scripts relate to D&D I will make all my scripts relate to D&D I will make all my scripts relate to D&D I will make all my scripts relate to D&D I will make all my scripts relate to D&D I will make all my scripts relate to D&D I will make all my scripts relate to D&D I will make all my scripts relate to D&D I will make all my scripts relate to D&D I will make all my scripts relate to D&D I will make all my scripts relate to D&D I will make all my scripts relate to D&D I will make all my scripts relate to D&D I will make all my scripts relate to D&D I will make all my scripts relate to D&D I will make all my scripts relate to D&D I will make all my scripts relate to D&D I will make all my scripts relate to D&D I will make all my scripts relate to D&D I will make all my scripts relate to D&D I will make all my scripts relate to D&D I will make all my scripts relate to D&D I will make all my scripts relate to D&D I will make all my scripts relate to D&D I will make all my scripts relate to D&D I will make all my scripts relate to D&D I will make all my scripts relate to D&D I will make all my scripts relate to D&D I will make all my scripts relate to D&D I will make all my scripts relate to D&D I will make all my scripts relate to D&D I will make all my scripts relate to D&D I will make all my scripts relate to D&D I will make all my scripts relate to D&D I will make all my scripts relate to D&D I will make all my scripts relate to D&D I will make all my scripts relate to D&D I will make all my scripts relate to D&D I will make all my scripts relate to D&D I will make all my scripts relate to D&D I will make all my scripts relate to D&D I will make all my scripts relate to D&D I will make all my scripts relate to D&D I will make all my scripts relate to D&D I will make all my scripts relate to D&D I will make all my scripts relate to D&D I will make all my scripts relate to D&D I will make all my scripts relate to D&D I will make all my scripts relate to D&D I will make all my scripts relate to D&D I will make all my scripts relate to D&D I will make all my scripts relate to D&D I will make all my scripts relate to D&D I will make all my scripts relate to D&D I will make all my scripts relate to D&D I will make all my scripts relate to D&D I will make all my scripts relate to D&D I will make all my scripts relate to D&D I will make all my scripts relate to D&D I will make all my scripts relate to D&D I will make all my scripts relate to D&D I will make all my scripts relate to D&D I will make all my scripts relate to D&D I will make all my scripts relate to D&D I will make all my scripts relate to D&D I will make all my scripts relate to D&D I will make all my scripts relate to D&D I will make all my scripts relate to D&D I will make all my scripts relate to D&D I will make all my scripts relate to D&D I will make all my scripts relate to D&D I will make all my scripts relate to D&D I will make all my scripts relate to D&D I will make all my scripts relate to D&D I will make all my scripts relate to D&D I will make all my scripts relate to D&D I will make all my scripts relate to D&D I will make all my scripts relate to D&D I will make all my scripts relate to D&D I will make all my scripts relate to D&D I will make all my scripts relate to D&D I will make all my scripts relate to D&D I will make all my scripts relate to D&D I will make all my scripts relate to D&D I will make all my scripts relate to D&D I will make all my scripts relate to D&D I will make all my scripts relate to D&D I will make all my scripts relate to D&D I will make all my scripts relate to D&D I will make all my scripts relate to D&D I will make all my scripts relate to D&D I will make all my scripts relate to D&D I will make all my scripts relate to D&D I will make all my scripts relate to D&D I will make all my scripts relate to D&D I will make all my scripts relate to D&D I will make all my scripts relate to D&D I will make all my scripts relate to D&D I will make all my scripts relate to D&D I will make all my scripts relate to D&D I will make all my scripts relate to D&D I will make all my scripts relate to D&D I will make all my scripts relate to D&D I will make all my scripts relate to D&D I will make all my scripts relate to D&D I will make all my scripts relate to D&D I will make all my scripts relate to D&D I will make all my scripts relate to D&D I will make all my scripts relate to D&D I will make all my scripts relate to D&D I will make all my scripts relate to D&D I will make all my scripts relate to D&D I will make all my scripts relate to D&D I will make all my scripts relate to D&D I will make all my scripts relate to D&D I will make all my scripts relate to D&D I will make all my scripts relate to D&D I will make all my scripts relate to D&D I will make all my scripts relate to D&D I will make all my scripts relate to D&D I will make all my scripts relate to D&D I will make all my scripts relate to D&D I will make all my scripts relate to D&D I will make all my scripts relate to D&D I will make all my scripts relate to D&D I will make all my scripts relate to D&D I will make all my scripts relate to D&D I will make all my scripts relate to D&D I will make all my scripts relate to D&D I will make all my scripts relate to D&D I will make all my scripts relate to D&D I will make all my scripts relate to D&D I will make all my scripts relate to D&D I will make all my scripts relate to D&D I will make all my scripts relate to D&D I will make all my scripts relate to D&D I will make all my scripts relate to D&D I will make all my scripts relate to D&D I will make all my scripts relate to D&D I will make all my scripts relate to D&D I will make all my scripts relate to D&D I will make all my scripts relate to D&D I will make all my scripts relate to D&D I will make all my scripts relate to D&D I will make all my scripts relate to D&D I will make all my scripts relate to D&D I will make all my scripts relate to D&D I will make all my scripts relate to D&D I will make all my scripts relate to D&D I will make all my scripts relate to D&D I will make all my scripts relate to D&D I will make all my scripts relate to D&D I will make all my scripts relate to D&D I will make all my scripts relate to D&D I will make all my scripts relate to D&D I will make all my scripts relate to D&D I will make all my scripts relate to D&D I will make all my scripts relate to D&D I will make all my scripts relate to D&D I will make all my scripts relate to D&D I will make all my scripts relate to D&D I will make all my scripts relate to D&D I will make all my scripts relate to D&D I will make all my scripts relate to D&D I will make all my scripts relate to D&D I will make all my scripts relate to D&D I will make all my scripts relate to D&D I will make all my scripts relate to D&D I will make all my scripts relate to D&D I will make all my scripts relate to D&D I will make all my scripts relate to D&D I will make all my scripts relate to D&D I will make all my scripts relate to D&D I will make all my scripts relate to D&D I will make all my scripts relate to D&D I will make all my scripts relate to D&D I will make all my scripts relate to D&D I will make all my scripts relate to D&D I will make all my scripts relate to D&D I will make all my scripts relate to D&D I will make all my scripts relate to D&D I will make all my scripts relate to D&D I will make all my scripts relate to D&D I will make all my scripts relate to D&D I will make all my scripts relate to D&D I will make all my scripts relate to D&D I will make all my scripts relate to D&D I will make all my scripts relate to D&D I will make all my scripts relate to D&D I will make all my scripts relate to D&D I will make all my scripts relate to D&D I will make all my scripts relate to D&D I will make all my scripts relate to D&D I will make all my scripts relate to D&D I will make all my scripts relate to D&D I will make all my scripts relate to D&D I will make all my scripts relate to D&D I will make all my scripts relate to D&D I will make all my scripts relate to D&D I will make all my scripts relate to D&D I will make all my scripts relate to D&D I will make all my scripts relate to D&D I will make all my scripts relate to D&D I will make all my scripts relate to D&D I will make all my scripts relate to D&D I will make all my scripts relate to D&D I will make all my scripts relate to D&D I will make all my scripts relate to D&D I will make all my scripts relate to D&D I will make all my scripts relate to D&D I will make all my scripts relate to D&D I will make all my scripts relate to D&D I will make all my scripts relate to D&D I will make all my scripts relate to D&D I will make all my scripts relate to D&D I will make all my scripts relate to D&D I will make all my scripts relate to D&D I will make all my scripts relate to D&D I will make all my scripts relate to D&D I will make all my scripts relate to D&D I will make all my scripts relate to D&D I will make all my scripts relate to D&D I will make all my scripts relate to D&D I will make all my scripts relate to D&D I will make all my scripts relate to D&D I will make all my scripts relate to D&D I will make all my scripts relate to D&D I will make all my scripts relate to D&D I will make all my scripts relate to D&D I will make all my scripts relate to D&D I will make all my scripts relate to D&D I will make all my scripts relate to D&D I will make all my scripts relate to D&D I will make all my scripts relate to D&D I will make all my scripts relate to D&D I will make all my scripts relate to D&D I will make all my scripts relate to D&D I will make all my scripts relate to D&D I will make all my scripts relate to D&D I will make all my scripts relate to D&D I will make all my scripts relate to D&D I will make all my scripts relate to D&D I will make all my scripts relate to D&D I will make all my scripts relate to D&D I will make all my scripts relate to D&D I will make all my scripts relate to D&D I will make all my scripts relate to D&D I will make all my scripts relate to D&D I will make all my scripts relate to D&D I will make all my scripts relate to D&D I will make all my scripts relate to D&D I will make all my scripts relate to D&D I will make all my scripts relate to D&D I will make all my scripts relate to D&D I will make all my scripts relate to D&D I will make all my scripts relate to D&D I will make all my scripts relate to D&D I will make all my scripts relate to D&D I will make all my scripts relate to D&D I will make all my scripts relate to D&D I will make all my scripts relate to D&D I will make all my scripts relate to D&D I will make all my scripts relate to D&D I will make all my scripts relate to D&D I will make all my scripts relate to D&D I will make all my scripts relate to D&D I will make all my scripts relate to D&D I will make all my scripts relate to D&D I will make all my scripts relate to D&D I will make all my scripts relate to D&D I will make all my scripts relate to D&D I will make all my scripts relate to D&D I will make all my scripts relate to D&D I will make all my scripts relate to D&D I will make all my scripts relate to D&D I will make all my scripts relate to D&D I will make all my scripts relate to D&D I will make all my scripts relate to D&D I will make all my scripts relate to D&D I will make all my scripts relate to D&D I will make all my scripts relate to D&D I will make all my scripts relate to D&D I will make all my scripts relate to D&D I will make all my scripts relate to D&D I will make all my scripts relate to D&D I will make all my scripts relate to D&D I will make all my scripts relate to D&D I will make all my scripts relate to D&D I will make all my scripts relate to D&D I will make all my scripts relate to D&D I will make all my scripts relate to D&D I will make all my scripts relate to D&D I will make all my scripts relate to D&D I will make all my scripts relate to D&D I will make all my scripts relate to D&D I will make all my scripts relate to D&D I will make all my scripts relate to D&D I will make all my scripts relate to D&D I will make all my scripts relate to D&D I will make all my scripts relate to D&D I will make all my scripts relate to D&D I will make all my scripts relate to D&D I will make all my scripts relate to D&D I will make all my scripts relate to D&D I will make all my scripts relate to D&D I will make all my scripts relate to D&D I will make all my scripts relate to D&D I will make all my scripts relate to D&D I will make all my scripts relate to D&D I will make all my scripts relate to D&D I will make all my scripts relate to D&D I will make all my scripts relate to D&D I will make all my scripts relate to D&D I will make all my scripts relate to D&D I will make all my scripts relate to D&D I will make all my scripts relate to D&D I will make all my scripts relate to D&D I will make all my scripts relate to D&D I will make all my scripts relate to D&D I will make all my scripts relate to D&D I will make all my scripts relate to D&D I will make all my scripts relate to D&D I will make all my scripts relate to D&D I will make all my scripts relate to D&D I will make all my scripts relate to D&D I will make all my scripts relate to D&D I will make all my scripts relate to D&D I will make all my scripts relate to D&D I will make all my scripts relate to D&D I will make all my scripts relate to D&D I will make all my scripts relate to D&D I will make all my scripts relate to D&D I will make all my scripts relate to D&D I will make all my scripts relate to D&D I will make all my scripts relate to D&D I will make all my scripts relate to D&D I will make all my scripts relate to D&D I will make all my scripts relate to D&D I will make all my scripts relate to D&D I will make all my scripts relate to D&D I will make all my scripts relate to D&D I will make all my scripts relate to D&D I will make all my scripts relate to D&D I will make all my scripts relate to D&D I will make all my scripts relate to D&D I will make all my scripts relate to D&D I will make all my scripts relate to D&D I will make all my scripts relate to D&D I will make all my scripts relate to D&D I will make all my scripts relate to D&D I will make all my scripts relate to D&D I will make all my scripts relate to D&D I will make all my scripts relate to D&D I will make all my scripts relate to D&D I will make all my scripts relate to D&D I will make all my scripts relate to D&D I will make all my scripts relate to D&D I will make all my scripts relate to D&D I will make all my scripts relate to D&D I will make all my scripts relate to D&D I will make all my scripts relate to D&D I will make all my scripts relate to D&D I will make all my scripts relate to D&D I will make all my scripts relate to D&D I will make all my scripts relate to D&D I will make all my scripts relate to D&D I will make all my scripts relate to D&D I will make all my scripts relate to D&D I will make all my scripts relate to D&D I will make all my scripts relate to D&D I will make all my scripts relate to D&D I will make all my scripts relate to D&D I will make all my scripts relate to D&D I will make all my scripts relate to D&D I will make all my scripts relate to D&D I will make all my scripts relate to D&D I will make all my scripts relate to D&D I will make all my scripts relate to D&D I will make all my scripts relate to D&D I will make all my scripts relate to D&D I will make all my scripts relate to D&D I will make all my scripts relate to D&D I will make all my scripts relate to D&D I will make all my scripts relate to D&D I will make all my scripts relate to D&D I will make all my scripts relate to D&D I will make all my scripts relate to D&D I will make all my scripts relate to D&D I will make all my scripts relate to D&D I will make all my scripts relate to D&D I will make all my scripts relate to D&D I will make all my scripts relate to D&D I will make all my scripts relate to D&D I will make all my scripts relate to D&D I will make all my scripts relate to D&D I will make all my scripts relate to D&D I will make all my scripts relate to D&D I will make all my scripts relate to D&D I will make all my scripts relate to D&D I will make all my scripts relate to D&D I will make all my scripts relate to D&D I will make all my scripts relate to D&D I will make all my scripts relate to D&D I will make all my scripts relate to D&D I will make all my scripts relate to D&D I will make all my scripts relate to D&D I will make all my scripts relate to D&D I will make all my scripts relate to D&D I will make all my scripts relate to D&D I will make all my scripts relate to D&D I will make all my scripts relate to D&D I will make all my scripts relate to D&D I will make all my scripts relate to D&D I will make all my scripts relate to D&D I will make all my scripts relate to D&D I will make all my scripts relate to D&D I will make all my scripts relate to D&D I will make all my scripts relate to D&D I will make all my scripts relate to D&D I will make all my scripts relate to D&D I will make all my scripts relate to D&D I will make all my scripts relate to D&D I will make all my scripts relate to D&D I will make all my scripts relate to D&D I will make all my scripts relate to D&D I will make all my scripts relate to D&D I will make all my scripts relate to D&D I will make all my scripts relate to D&D I will make all my scripts relate to D&D I will make all my scripts relate to D&D I will make all my scripts relate to D&D I will make all my scripts relate to D&D I will make all my scripts relate to D&D I will make all my scripts relate to D&D I will make all my scripts relate to D&D I will make all my scripts relate to D&D I will make all my scripts relate to D&D I will make all my scripts relate to D&D I will make all my scripts relate to D&D I will make all my scripts relate to D&D I will make all my scripts relate to D&D I will make all my scripts relate to D&D I will make all my scripts relate to D&D I will make all my scripts relate to D&D I will make all my scripts relate to D&D I will make all my scripts relate to D&D I will make all my scripts relate to D&D I will make all my scripts relate to D&D I will make all my scripts relate to D&D I will make all my scripts relate to D&D I will make all my scripts relate to D&D I will make all my scripts relate to D&D I will make all my scripts relate to D&D I will make all my scripts relate to D&D I will make all my scripts relate to D&D I will make all my scripts relate to D&D I will make all my scripts relate to D&D I will make all my scripts relate to D&D I will make all my scripts relate to D&D I will make all my scripts relate to D&D I will make all my scripts relate to D&D I will make all my scripts relate to D&D I will make all my scripts relate to D&D I will make all my scripts relate to D&D I will make all my scripts relate to D&D I will make all my scripts relate to D&D I will make all my scripts relate to D&D I will make all my scripts relate to D&D I will make all my scripts relate to D&D I will make all my scripts relate to D&D I will make all my scripts relate to D&D I will make all my scripts relate to D&D I will make all my scripts relate to D&D I will make all my scripts relate to D&D I will make all my scripts relate to D&D I will make all my scripts relate to D&D I will make all my scripts relate to D&D I will make all my scripts relate to D&D I will make all my scripts relate to D&D I will make all my scripts relate to D&D I will make all my scripts relate to D&D I will make all my scripts relate to D&D I will make all my scripts relate to D&D I will make all my scripts relate to D&D I will make all my scripts relate to D&D I will make all my scripts relate to D&D I will make all my scripts relate to D&D I will make all my scripts relate to D&D I will make all my scripts relate to D&D I will make all my scripts relate to D&D I will make all my scripts relate to D&D I will make all my scripts relate to D&D I will make all my scripts relate to D&D I will make all my scripts relate to D&D I will make all my scripts relate to D&D I will make all my scripts relate to D&D I will make all my scripts relate to D&D I will make all my scripts relate to D&D I will make all my scripts relate to D&D I will make all my scripts relate to D&D I will make all my scripts relate to D&D I will make all my scripts relate to D&D I will make all my scripts relate to D&D I will make all my scripts relate to D&D I will make all my scripts relate to D&D I will make all my scripts relate to D&D I will make all my scripts relate to D&D I will make all my scripts relate to D&D I will make all my scripts relate to D&D I will make all my scripts relate to D&D I will make all my scripts relate to D&D I will make all my scripts relate to D&D I will make all my scripts relate to D&D I will make all my scripts relate to D&D I will make all my scripts relate to D&D I will make all my scripts relate to D&D I will make all my scripts relate to D&D I will make all my scripts relate to D&D I will make all my scripts relate to D&D I will make all my scripts relate to D&D I will make all my scripts relate to D&D I will make all my scripts relate to D&D I will make all my scripts relate to D&D I will make all my scripts relate to D&D I will make all my scripts relate to D&D I will make all my scripts relate to D&D I will make all my scripts relate to D&D I will make all my scripts relate to D&D I will make all my scripts relate to D&D I will make all my scripts relate to D&D I will make all my scripts relate to D&D I will make all my scripts relate to D&D I will make all my scripts relate to D&D I will make all my scripts relate to D&D I will make all my scripts relate to D&D I will make all my scripts relate to D&D I will make all my scripts relate to D&D I will make all my scripts relate to D&D I will make all my scripts relate to D&D I will make all my scripts relate to D&D I will make all my scripts relate to D&D I will make all my scripts relate to D&D I will make all my scripts relate to D&D I will make all my scripts relate to D&D I will make all my scripts relate to D&D I will make all my scripts relate to D&D I will make all my scripts relate to D&D I will make all my scripts relate to D&D I will make all my scripts relate to D&D I will make all my scripts relate to D&D I will make all my scripts relate to D&D I will make all my scripts relate to D&D I will make all my scripts relate to D&D I will make all my scripts relate to D&D I will make all my scripts relate to D&D I will make all my scripts relate to D&D I will make all my scripts relate to D&D I will make all my scripts relate to D&D I will make all my scripts relate to D&D I will make all my scripts relate to D&D I will make all my scripts relate to D&D I will make all my scripts relate to D&D I will make all my scripts relate to D&D I will make all my scripts relate to D&D I will make all my scripts relate to D&D I will make all my scripts relate to D&D I will make all my scripts relate to D&D I will make all my scripts relate to D&D I will make all my scripts relate to D&D I will make all my scripts relate to D&D I will make all my scripts relate to D&D I will make all my scripts relate to D&D I will make all my scripts relate to D&D I will make all my scripts relate to D&D I will make all my scripts relate to D&D I will make all my scripts relate to D&D I will make all my scripts relate to D&D I will make all my scripts relate to D&D I will make all my scripts relate to D&D I will make all my scripts relate to D&D I will make all my scripts relate to D&D I will make all my scripts relate to D&D I will make all my scripts relate to D&D I will make all my scripts relate to D&D I will make all my scripts relate to D&D I will make all my scripts relate to D&D I will make all my scripts relate to D&D I will make all my scripts relate to D&D I will make all my scripts relate to D&D I will make all my scripts relate to D&D I will make all my scripts relate to D&D I will make all my scripts relate to D&D I will make all my scripts relate to D&D I will make all my scripts relate to D&D I will make all my scripts relate to D&D I will make all my scripts relate to D&D I will make all my scripts relate to D&D I will make all my scripts relate to D&D I will make all my scripts relate to D&D I will make all my scripts relate to D&D I will make all my scripts relate to D&D I will make all my scripts relate to D&D I will make all my scripts relate to D&D I will make all my scripts relate to D&D I will make all my scripts relate to D&D I will make all my scripts relate to D&D I will make all my scripts relate to D&D I will make all my scripts relate to D&D I will make all my scripts relate to D&D I will make all my scripts relate to D&D I will make all my scripts relate to D&D I will make all my scripts relate to D&D I will make all my scripts relate to D&D I will make all my scripts relate to D&D I will make all my scripts relate to D&D I will make all my scripts relate to D&D I will make all my scripts relate to D&D I will make all my scripts relate to D&D I will make all my scripts relate to D&D I will make all my scripts relate to D&D I will make all my scripts relate to D&D I will make all my scripts relate to D&D I will make all my scripts relate to D&D I will make all my scripts relate to D&D I will make all my scripts relate to D&D I will make all my scripts relate to D&D I will make all my scripts relate to D&D I will make all my scripts relate to D&D I will make all my scripts relate to D&D I will make all my scripts relate to D&D I will make all my scripts relate to D&D I will make all my scripts relate to D&D I will make all my scripts relate to D&D I will make all my scripts relate to D&D I will make all my scripts relate to D&D I will make all my scripts relate to D&D I will make all my scripts relate to D&D I will make all my scripts relate to D&D I will make all my scripts relate to D&D I will make all my scripts relate to D&D I will make all my scripts relate to D&D I will make all my scripts relate to D&D I will make all my scripts relate to D&D I will make all my scripts relate to D&D I will make all my scripts relate to D&D I will make all my scripts relate to D&D I will make all my scripts relate to D&D I will make all my scripts relate to D&D I will make all my scripts relate to D&D I will make all my scripts relate to D&D I will make all my scripts relate to D&D I will make all my scripts relate to D&D I will make all my scripts relate to D&D I will make all my scripts relate to D&D I will make all my scripts relate to D&D I will make all my scripts relate to D&D I will make all my scripts relate to D&D I will make all my scripts relate to D&D I will make all my scripts relate to D&D I will make all my scripts relate to D&D I will make all my scripts relate to D&D I will make all my scripts relate to D&D I will make all my scripts relate to D&D I will make all my scripts relate to D&D I will make all my scripts relate to D&D I will make all my scripts relate to D&D I will make all my scripts relate to D&D I will make all my scripts relate to D&D I will make all my scripts relate to D&D I will make all my scripts relate to D&D I will make all my scripts relate to D&D I will make all my scripts relate to D&D I will make all my scripts relate to D&D I will make all my scripts relate to D&D I will make all my scripts relate to D&D I will make all my scripts relate to D&D I will make all my scripts relate to D&D I will make all my scripts relate to D&D I will make all my scripts relate to D&D I will make all my scripts relate to D&D I will make all my scripts relate to D&D I will make all my scripts relate to D&D I will make all my scripts relate to D&D I will make all my scripts relate to D&D I will make all my scripts relate to D&D I will make all my scripts relate to D&D I will make all my scripts relate to D&D I will make all my scripts relate to D&D I will make all my scripts relate to D&D I will make all my scripts relate to D&D I will make all my scripts relate to D&D I will make all my scripts relate to D&D I will make all my scripts relate to D&D I will make all my scripts relate to D&D I will make all my scripts relate to D&D I will make all my scripts relate to D&D I will make all my scripts relate to D&D I will make all my scripts relate to D&D I will make all my scripts relate to D&D I will make all my scripts relate to D&D I will make all my scripts relate to D&D I will make all my scripts relate to D&D I will make all my scripts relate to D&D I will make all my scripts relate to D&D I will make all my scripts relate to D&D I will make all my scripts relate to D&D I will make all my scripts relate to D&D I will make all my scripts relate to D&D I will make all my scripts relate to D&D I will make all my scripts relate to D&D I will make all my scripts relate to D&D I will make all my scripts relate to D&D I will make all my scripts relate to D&D I will make all my scripts relate to D&D I will make all my scripts relate to D&D I will make all my scripts relate to D&D I will make all my scripts relate to D&D I will make all my scripts relate to D&D I will make all my scripts relate to D&D I will make all my scripts relate to D&D I will make all my scripts relate to D&D I will make all my scripts relate to D&D I will make all my scripts relate to D&D I will make all my scripts relate to D&D I will make all my scripts relate to D&D I will make all my scripts relate to D&D I will make all my scripts relate to D&D I will make all my scripts relate to D&D I will make all my scripts relate to D&D I will make all my scripts relate to D&D I will make all my scripts relate to D&D I will make all my scripts relate to D&D I will make all my scripts relate to D&D I will make all my scripts relate to D&D I will make all my scripts relate to D&D I will make all my scripts relate to D&D I will make all my scripts relate to D&D I will make all my scripts relate to D&D I will make all my scripts relate to D&D I will make all my scripts relate to D&D I will make all my scripts relate to D&D I will make all my scripts relate to D&D I will make all my scripts relate to D&D I will make all my scripts relate to D&D I will make all my scripts relate to D&D I will make all my scripts relate to D&D I will make all my scripts relate to D&D I will make all my scripts relate to D&D I will make all my scripts relate to D&D I will make all my scripts relate to D&D I will make all my scripts relate to D&D I will make all my scripts relate to D&D I will make all my scripts relate to D&D I will make all my scripts relate to D&D I will make all my scripts relate to D&D I will make all my scripts relate to D&D I will make all my scripts relate to D&D I will make all my scripts relate to D&D I will make all my scripts relate to D&D I will make all my scripts relate to D&D I will make all my scripts relate to D&D I will make all my scripts relate to D&D I will make all my scripts relate to D&D I will make all my scripts relate to D&D I will make all my scripts relate to D&D I will make all my scripts relate to D&D I will make all my scripts relate to D&D I will make all my scripts relate to D&D I will make all my scripts relate to D&D I will make all my scripts relate to D&D I will make all my scripts relate to D&D I will make all my scripts relate to D&D I will make all my scripts relate to D&D I will make all my scripts relate to D&D I will make all my scripts relate to D&D I will make all my scripts relate to D&D I will make all my scripts relate to D&D I will make all my scripts relate to D&D I will make all my scripts relate to D&D I will make all my scripts relate to D&D I will make all my scripts relate to D&D I will make all my scripts relate to D&D I will make all my scripts relate to D&D I will make all my scripts relate to D&D I will make all my scripts relate to D&D I will make all my scripts relate to D&D I will make all my scripts relate to D&D I will make all my scripts relate to D&D I will make all my scripts relate to D&D I will make all my scripts relate to D&D I will make all my scripts relate to D&D I will make all my scripts relate to D&D I will make all my scripts relate to D&D I will make all my scripts relate to D&D I will make all my scripts relate to D&D I will make all my scripts relate to D&D I will make all my scripts relate to D&D I will make all my scripts relate to D&D I will make all my scripts relate to D&D I will make all my scripts relate to D&D I will make all my scripts relate to D&D I will make all my scripts relate to D&D I will make all my scripts relate to D&D I will make all my scripts relate to D&D I will make all my scripts relate to D&D I will make all my scripts relate to D&D I will make all my scripts relate to D&D I will make all my scripts relate to D&D I will make all my scripts relate to D&D I will make all my scripts relate to D&D I will make all my scripts relate to D&D I will make all my scripts relate to D&D I will make all my scripts relate to D&D I will make all my scripts relate to D&D I will make all my scripts relate to D&D I will make all my scripts relate to D&D I will make all my scripts relate to D&D I will make all my scripts relate to D&D I will make all my scripts relate to D&D I will make all my scripts relate to D&D I will make all my scripts relate to D&D I will make all my scripts relate to D&D I will make all my scripts relate to D&D I will make all my scripts relate to D&D I will make all my scripts relate to D&D I will make all my scripts relate to D&D I will make all my scripts relate to D&D I will make all my scripts relate to D&D I will make all my scripts relate to D&D I will make all my scripts relate to D&D I will make all my scripts relate to D&D I will make all my scripts relate to D&D I will make all my scripts relate to D&D I will make all my scripts relate to D&D I will make all my scripts relate to D&D I will make all my scripts relate to D&D I will make all my scripts relate to D&D I will make all my scripts relate to D&D I will make all my scripts relate to D&D I will make all my scripts relate to D&D I will make all my scripts relate to D&D I will make all my scripts relate to D&D I will make all my scripts relate to D&D I will make all my scripts relate to D&D I will make all my scripts relate to D&D I will make all my scripts relate to D&D I will make all my scripts relate to D&D '"
      ]
     },
     "execution_count": 6,
     "metadata": {},
     "output_type": "execute_result"
    }
   ],
   "source": [
    "'I will make all my scripts relate to D&D '*1000\n"
   ]
  },
  {
   "cell_type": "code",
   "execution_count": null,
   "id": "9243419e",
   "metadata": {},
   "outputs": [],
   "source": []
  }
 ],
 "metadata": {
  "kernelspec": {
   "display_name": "Python 3",
   "language": "python",
   "name": "python3"
  },
  "language_info": {
   "codemirror_mode": {
    "name": "ipython",
    "version": 3
   },
   "file_extension": ".py",
   "mimetype": "text/x-python",
   "name": "python",
   "nbconvert_exporter": "python",
   "pygments_lexer": "ipython3",
   "version": "3.8.8"
  }
 },
 "nbformat": 4,
 "nbformat_minor": 5
}

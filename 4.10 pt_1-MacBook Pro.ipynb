{
 "cells": [
  {
   "cell_type": "code",
   "execution_count": null,
   "id": "438ae296",
   "metadata": {},
   "outputs": [],
   "source": [
    "import pandas as pd\n",
    "import numpy as np\n",
    "import os\n",
    "import matplotlib.pyplot as plt\n",
    "import seaborn as sns\n",
    "import scipy"
   ]
  },
  {
   "cell_type": "code",
   "execution_count": 2,
   "id": "09750e63",
   "metadata": {},
   "outputs": [],
   "source": [
    "cust_ords_merge = pd.read_pickle(r'/Users/matth/Desktop/Holocron Docs/Matthew/Coding Class/Career_Foundry Data Science Course/2. Data Immersion/Lesson 4/Python Folder for Lesson 4/02 Data/Prepared Data/4.9_cust_ords_merge.pkl')"
   ]
  },
  {
   "cell_type": "code",
   "execution_count": 44,
   "id": "d6ce7350",
   "metadata": {},
   "outputs": [],
   "source": [
    "path = r'/Users/matth/Desktop/Holocron Docs/Matthew/Coding Class/Career_Foundry Data Science Course/2. Data Immersion/Lesson 4'"
   ]
  },
  {
   "cell_type": "code",
   "execution_count": null,
   "id": "1182a931",
   "metadata": {},
   "outputs": [],
   "source": [
    "#Questions for 4.10 pt 1"
   ]
  },
  {
   "cell_type": "code",
   "execution_count": null,
   "id": "e647450e",
   "metadata": {},
   "outputs": [],
   "source": [
    "#2 Consider any security implications that might exist for this new data. You’ll need to address any PII \n",
    "#data in the data before continuing your analysis."
   ]
  },
  {
   "cell_type": "code",
   "execution_count": null,
   "id": "cd8ab404",
   "metadata": {},
   "outputs": [],
   "source": [
    "for col in cust_ords_merge.columns:\n",
    "    print(col)"
   ]
  },
  {
   "cell_type": "code",
   "execution_count": null,
   "id": "f863b60c",
   "metadata": {},
   "outputs": [],
   "source": [
    "#2a These data do contain specific identifying information, namely first and last name, age, state of residence, dependants, income and family status.\n",
    "#I would make sure that the supervisor was aware of this and, if it were an issue, offer to use the .drop() command for elements\n",
    "#such as first & last name, gender, age, dependants, and family status. Income is something I would be willin to remove, however,\n",
    "#when its tied to a randomized user_id, it can still be useful for analysis like in the previous exercise. I would keep an original\n",
    "#dataset with all the information for my own analysis and something to return to if I had issues with later commands put in."
   ]
  },
  {
   "cell_type": "code",
   "execution_count": 4,
   "id": "cd8641fa",
   "metadata": {
    "scrolled": true
   },
   "outputs": [],
   "source": [
    "#3 The Instacart officers are interested in comparing customer behavior in different geographic areas. \n",
    "#Create a regional segmentation of the data. You’ll need to create a “Region” column based on the “State” column \n",
    "#from your customers data set.\n",
    "\n",
    "#3.1:\n",
    "\n",
    "region = []\n",
    "\n",
    "for state in cust_ords_merge['State']: \n",
    "\n",
    " if (state == 'ME') or (state == 'NH') or (state =='VT') or (state =='MA') or (state =='RI') or (state =='CT'):\n",
    "    region.append(\"New_England\")     \n",
    " elif (state == 'NY') or (state =='PA') or (state =='NJ'):\n",
    "    region.append(\"Mid_Atlantic\")  \n",
    " elif (state == 'WI') or (state =='MI') or (state =='IL') or (state =='IN') or (state =='OH'):\n",
    "    region.append(\"NE_Central\")\n",
    " elif (state == 'ND') or (state =='SD') or (state =='NE') or (state =='KS') or (state =='MN') or (state =='IA') or (state =='MO'):\n",
    "    region.append(\"NW_Central\")\n",
    " elif (state == 'DE') or (state =='MD') or (state =='DC') or (state =='VA') or (state =='WV') or (state =='NC') or (state =='SC') or (state =='GA') or (state =='FL'):\n",
    "    region.append(\"S_Atlantic\")\n",
    " elif (state == 'KY') or (state =='TN') or (state =='MS') or (state =='AL'):\n",
    "    region.append(\"SE_Central\")\n",
    " elif (state == 'ID') or (state =='MT') or (state =='WY') or (state =='NV') or (state =='CO') or (state =='AZ') or (state =='NM'):\n",
    "    region.append(\"Mountain\")\n",
    " else: region.append(\"Pacific\")\n",
    "  "
   ]
  },
  {
   "cell_type": "code",
   "execution_count": 5,
   "id": "7fcde757",
   "metadata": {},
   "outputs": [],
   "source": [
    " #3.1.2\n",
    "cust_ords_merge['region'] = region"
   ]
  },
  {
   "cell_type": "code",
   "execution_count": 6,
   "id": "ff026268",
   "metadata": {},
   "outputs": [
    {
     "data": {
      "text/plain": [
       "Pacific         20315770\n",
       "S_Atlantic      18163851\n",
       "NW_Central      14226225\n",
       "Mountain        14176299\n",
       "New_England     12092255\n",
       "NE_Central      10097196\n",
       "SE_Central       8167973\n",
       "Mid_Atlantic     6118650\n",
       "Name: region, dtype: int64"
      ]
     },
     "execution_count": 6,
     "metadata": {},
     "output_type": "execute_result"
    }
   ],
   "source": [
    "#3.2\n",
    "\n",
    "cust_ords_merge['region'].value_counts(dropna = False)"
   ]
  },
  {
   "cell_type": "code",
   "execution_count": 7,
   "id": "2abe67f5",
   "metadata": {},
   "outputs": [
    {
     "data": {
      "text/html": [
       "<div>\n",
       "<style scoped>\n",
       "    .dataframe tbody tr th:only-of-type {\n",
       "        vertical-align: middle;\n",
       "    }\n",
       "\n",
       "    .dataframe tbody tr th {\n",
       "        vertical-align: top;\n",
       "    }\n",
       "\n",
       "    .dataframe thead th {\n",
       "        text-align: right;\n",
       "    }\n",
       "</style>\n",
       "<table border=\"1\" class=\"dataframe\">\n",
       "  <thead>\n",
       "    <tr style=\"text-align: right;\">\n",
       "      <th>spending_flag</th>\n",
       "      <th>High Spender</th>\n",
       "      <th>Low Spender</th>\n",
       "    </tr>\n",
       "    <tr>\n",
       "      <th>region</th>\n",
       "      <th></th>\n",
       "      <th></th>\n",
       "    </tr>\n",
       "  </thead>\n",
       "  <tbody>\n",
       "    <tr>\n",
       "      <th>Mid_Atlantic</th>\n",
       "      <td>118315</td>\n",
       "      <td>6000335</td>\n",
       "    </tr>\n",
       "    <tr>\n",
       "      <th>Mountain</th>\n",
       "      <td>275159</td>\n",
       "      <td>13901140</td>\n",
       "    </tr>\n",
       "    <tr>\n",
       "      <th>NE_Central</th>\n",
       "      <td>194312</td>\n",
       "      <td>9902884</td>\n",
       "    </tr>\n",
       "    <tr>\n",
       "      <th>NW_Central</th>\n",
       "      <td>279716</td>\n",
       "      <td>13946509</td>\n",
       "    </tr>\n",
       "    <tr>\n",
       "      <th>New_England</th>\n",
       "      <td>237392</td>\n",
       "      <td>11854863</td>\n",
       "    </tr>\n",
       "    <tr>\n",
       "      <th>Pacific</th>\n",
       "      <td>398217</td>\n",
       "      <td>19917553</td>\n",
       "    </tr>\n",
       "    <tr>\n",
       "      <th>SE_Central</th>\n",
       "      <td>162438</td>\n",
       "      <td>8005535</td>\n",
       "    </tr>\n",
       "    <tr>\n",
       "      <th>S_Atlantic</th>\n",
       "      <td>364985</td>\n",
       "      <td>17798866</td>\n",
       "    </tr>\n",
       "  </tbody>\n",
       "</table>\n",
       "</div>"
      ],
      "text/plain": [
       "spending_flag  High Spender  Low Spender\n",
       "region                                  \n",
       "Mid_Atlantic         118315      6000335\n",
       "Mountain             275159     13901140\n",
       "NE_Central           194312      9902884\n",
       "NW_Central           279716     13946509\n",
       "New_England          237392     11854863\n",
       "Pacific              398217     19917553\n",
       "SE_Central           162438      8005535\n",
       "S_Atlantic           364985     17798866"
      ]
     },
     "execution_count": 7,
     "metadata": {},
     "output_type": "execute_result"
    }
   ],
   "source": [
    "#3b. Determine difference in regional spending habits. Cross 'Region' w/ 'Spending Flag'\n",
    "\n",
    "crosstab_region_spend = pd.crosstab(cust_ords_merge['region'], cust_ords_merge['spending_flag'], dropna = False)\n",
    "crosstab_region_spend"
   ]
  },
  {
   "cell_type": "code",
   "execution_count": 8,
   "id": "26989938",
   "metadata": {},
   "outputs": [],
   "source": [
    "#4 The Instacart CFO isn’t interested in customers who don’t generate much revenue for the app. \n",
    "#Create an exclusion flag for low-activity customers (customers with less than 5 orders) and \n",
    "#exclude them from the data. Make sure you export this sample.\n",
    "\n",
    "cust_ords_merge.loc[cust_ords_merge['max_order'] < 5, 'activity'] = 'low'"
   ]
  },
  {
   "cell_type": "code",
   "execution_count": 9,
   "id": "23517b4f",
   "metadata": {},
   "outputs": [],
   "source": [
    "#Identify highly active users\n",
    "\n",
    "cust_ords_merge.loc[cust_ords_merge['max_order'] > 5, 'activity'] = 'high'"
   ]
  },
  {
   "cell_type": "code",
   "execution_count": 10,
   "id": "c8a22989",
   "metadata": {},
   "outputs": [],
   "source": [
    "#exclude low activity customers from new df\n",
    "\n",
    "cust_ords_new = cust_ords_merge[cust_ords_merge['max_order'] > 5]"
   ]
  },
  {
   "cell_type": "code",
   "execution_count": 11,
   "id": "53bd0b76",
   "metadata": {},
   "outputs": [],
   "source": [
    "#5a. Create customer profiles for new marketing strategy. Their status with what they buy. Age-dept\n",
    "\n",
    "crosstab_age = pd.crosstab(cust_ords_new['Age'], cust_ords_new['department_id'], dropna = False)\n",
    "crosstab_age.to_clipboard()"
   ]
  },
  {
   "cell_type": "code",
   "execution_count": 12,
   "id": "2adb5e88",
   "metadata": {},
   "outputs": [],
   "source": [
    "#Age-time\n",
    "\n",
    "crosstab_age_time = pd.crosstab(cust_ords_new['Age'], cust_ords_new['order_hour_of_day'], dropna = False)\n",
    "crosstab_age_time.to_clipboard()"
   ]
  },
  {
   "cell_type": "code",
   "execution_count": 14,
   "id": "831e7571",
   "metadata": {},
   "outputs": [],
   "source": [
    "#Age-day\n",
    "\n",
    "crosstab_age_day = pd.crosstab(cust_ords_new['Age'], cust_ords_new['order_dow'], dropna = False)\n",
    "crosstab_age_day.to_clipboard()"
   ]
  },
  {
   "cell_type": "code",
   "execution_count": 15,
   "id": "0d6efa2a",
   "metadata": {},
   "outputs": [],
   "source": [
    "#Income-Dept\n",
    "crosstab_inc_dept = pd.crosstab(cust_ords_new['income'], cust_ords_new['department_id'], dropna = False)\n",
    "crosstab_inc_dept.to_clipboard()"
   ]
  },
  {
   "cell_type": "code",
   "execution_count": 16,
   "id": "d18097c5",
   "metadata": {},
   "outputs": [],
   "source": [
    "#income-time\n",
    "crosstab_inc_time = pd.crosstab(cust_ords_new['income'], cust_ords_new['order_hour_of_day'], dropna = False)\n",
    "crosstab_inc_time.to_clipboard()"
   ]
  },
  {
   "cell_type": "code",
   "execution_count": 18,
   "id": "8fe12e98",
   "metadata": {},
   "outputs": [],
   "source": [
    "#income-day\n",
    "crosstab_inc_day = pd.crosstab(cust_ords_new['income'], cust_ords_new['order_dow'], dropna = False)\n",
    "crosstab_inc_day.to_clipboard()"
   ]
  },
  {
   "cell_type": "code",
   "execution_count": 19,
   "id": "af348192",
   "metadata": {},
   "outputs": [],
   "source": [
    "#family status-dept id\n",
    "crosstab_fam_dept = pd.crosstab(cust_ords_new['fam_status'], cust_ords_new['department_id'], dropna = False)\n",
    "crosstab_fam_dept.to_clipboard()"
   ]
  },
  {
   "cell_type": "code",
   "execution_count": 20,
   "id": "28791d10",
   "metadata": {},
   "outputs": [],
   "source": [
    "#Family status that spends the most\n",
    "crosstab_fam_spend = pd.crosstab(cust_ords_new['prices'].sum(), cust_ords_new['fam_status'], dropna = False)\n",
    "crosstab_fam_spend.to_clipboard()"
   ]
  },
  {
   "cell_type": "code",
   "execution_count": 21,
   "id": "c32afabe",
   "metadata": {},
   "outputs": [],
   "source": [
    "#Fam status-day\n",
    "crosstab_fam_day = pd.crosstab(cust_ords_new['fam_status'], cust_ords_new['order_dow'], dropna = False)\n",
    "crosstab_fam_day.to_clipboard()"
   ]
  },
  {
   "cell_type": "code",
   "execution_count": 22,
   "id": "f330ee21",
   "metadata": {},
   "outputs": [],
   "source": [
    "#Dept that generated most revenue\n",
    "crosstab_price_dept = pd.crosstab(cust_ords_new['prices'].sum(), cust_ords_new['department_id'], dropna = False)\n",
    "crosstab_price_dept.to_clipboard()"
   ]
  },
  {
   "cell_type": "code",
   "execution_count": 23,
   "id": "ff1ed7d0",
   "metadata": {},
   "outputs": [],
   "source": [
    "#Customer frequency spending more\n",
    "crosstab_freq_spend = pd.crosstab(cust_ords_new['prices'].sum(), cust_ords_new['frequency'], dropna = False)\n",
    "crosstab_freq_spend.to_clipboard()"
   ]
  },
  {
   "cell_type": "code",
   "execution_count": 24,
   "id": "0efb4305",
   "metadata": {},
   "outputs": [],
   "source": [
    "#customer frequency determine items purchased\n",
    "crosstab_freq_dept = pd.crosstab(cust_ords_new['department_id'], cust_ords_new['frequency'], dropna = False)\n",
    "crosstab_freq_dept.to_clipboard()"
   ]
  },
  {
   "cell_type": "code",
   "execution_count": 26,
   "id": "a5ac9076",
   "metadata": {},
   "outputs": [],
   "source": [
    "#Family size spending habits\n",
    "crosstab_family_spend = pd.crosstab(cust_ords_new['prices'].sum(), cust_ords_new['dependants'], dropna = False)\n",
    "crosstab_family_spend.to_clipboard()"
   ]
  },
  {
   "cell_type": "code",
   "execution_count": 28,
   "id": "efcd7acb",
   "metadata": {},
   "outputs": [],
   "source": [
    "#Key departments with n_dependants\n",
    "crosstab_depend_dept = pd.crosstab(cust_ords_new['department_id'], cust_ords_new['dependants'], dropna = False)\n",
    "crosstab_depend_dept.to_clipboard()"
   ]
  },
  {
   "cell_type": "code",
   "execution_count": 30,
   "id": "cffd1613",
   "metadata": {},
   "outputs": [
    {
     "name": "stderr",
     "output_type": "stream",
     "text": [
      "/opt/anaconda3/lib/python3.8/site-packages/pandas/core/indexing.py:1599: SettingWithCopyWarning: \n",
      "A value is trying to be set on a copy of a slice from a DataFrame.\n",
      "Try using .loc[row_indexer,col_indexer] = value instead\n",
      "\n",
      "See the caveats in the documentation: https://pandas.pydata.org/pandas-docs/stable/user_guide/indexing.html#returning-a-view-versus-a-copy\n",
      "  self.obj[key] = infer_fill_value(value)\n",
      "/opt/anaconda3/lib/python3.8/site-packages/pandas/core/indexing.py:1720: SettingWithCopyWarning: \n",
      "A value is trying to be set on a copy of a slice from a DataFrame.\n",
      "Try using .loc[row_indexer,col_indexer] = value instead\n",
      "\n",
      "See the caveats in the documentation: https://pandas.pydata.org/pandas-docs/stable/user_guide/indexing.html#returning-a-view-versus-a-copy\n",
      "  self._setitem_single_column(loc, value, pi)\n",
      "/opt/anaconda3/lib/python3.8/site-packages/pandas/core/indexing.py:1720: SettingWithCopyWarning: \n",
      "A value is trying to be set on a copy of a slice from a DataFrame.\n",
      "Try using .loc[row_indexer,col_indexer] = value instead\n",
      "\n",
      "See the caveats in the documentation: https://pandas.pydata.org/pandas-docs/stable/user_guide/indexing.html#returning-a-view-versus-a-copy\n",
      "  self._setitem_single_column(loc, value, pi)\n",
      "/opt/anaconda3/lib/python3.8/site-packages/pandas/core/indexing.py:1720: SettingWithCopyWarning: \n",
      "A value is trying to be set on a copy of a slice from a DataFrame.\n",
      "Try using .loc[row_indexer,col_indexer] = value instead\n",
      "\n",
      "See the caveats in the documentation: https://pandas.pydata.org/pandas-docs/stable/user_guide/indexing.html#returning-a-view-versus-a-copy\n",
      "  self._setitem_single_column(loc, value, pi)\n"
     ]
    }
   ],
   "source": [
    "#Flag income level\n",
    "cust_ords_new.loc[cust_ords_new['income'] <= 50000, 'income_level'] = 'low_income'\n",
    "cust_ords_new.loc[(cust_ords_new['income'] <=100000) & (cust_ords_new['income'] > 50000), 'income_level'] = 'mid_income'\n",
    "cust_ords_new.loc[cust_ords_new['income'] > 100000, 'income_level'] = 'high_income'"
   ]
  },
  {
   "cell_type": "code",
   "execution_count": 31,
   "id": "4c5af3a6",
   "metadata": {},
   "outputs": [
    {
     "data": {
      "text/html": [
       "<div>\n",
       "<style scoped>\n",
       "    .dataframe tbody tr th:only-of-type {\n",
       "        vertical-align: middle;\n",
       "    }\n",
       "\n",
       "    .dataframe tbody tr th {\n",
       "        vertical-align: top;\n",
       "    }\n",
       "\n",
       "    .dataframe thead th {\n",
       "        text-align: right;\n",
       "    }\n",
       "</style>\n",
       "<table border=\"1\" class=\"dataframe\">\n",
       "  <thead>\n",
       "    <tr style=\"text-align: right;\">\n",
       "      <th></th>\n",
       "      <th>user_id</th>\n",
       "      <th>First Name</th>\n",
       "      <th>Last Name</th>\n",
       "      <th>Gender</th>\n",
       "      <th>State</th>\n",
       "      <th>Age</th>\n",
       "      <th>dependants</th>\n",
       "      <th>fam_status</th>\n",
       "      <th>income</th>\n",
       "      <th>product_id</th>\n",
       "      <th>...</th>\n",
       "      <th>busiest_period_of_day</th>\n",
       "      <th>spending</th>\n",
       "      <th>spending_flag</th>\n",
       "      <th>frequency</th>\n",
       "      <th>frequency_flag</th>\n",
       "      <th>max_order</th>\n",
       "      <th>loyalty_flag</th>\n",
       "      <th>region</th>\n",
       "      <th>activity</th>\n",
       "      <th>income_level</th>\n",
       "    </tr>\n",
       "  </thead>\n",
       "  <tbody>\n",
       "    <tr>\n",
       "      <th>103358214</th>\n",
       "      <td>14612</td>\n",
       "      <td>Cynthia</td>\n",
       "      <td>Noble</td>\n",
       "      <td>Female</td>\n",
       "      <td>NY</td>\n",
       "      <td>55</td>\n",
       "      <td>1</td>\n",
       "      <td>married</td>\n",
       "      <td>NaN</td>\n",
       "      <td>-16575</td>\n",
       "      <td>...</td>\n",
       "      <td>Most Orders</td>\n",
       "      <td>7.46875</td>\n",
       "      <td>Low Spender</td>\n",
       "      <td>30.0</td>\n",
       "      <td>Non-frequent customer</td>\n",
       "      <td>9</td>\n",
       "      <td>New customer</td>\n",
       "      <td>Mid_Atlantic</td>\n",
       "      <td>high</td>\n",
       "      <td>NaN</td>\n",
       "    </tr>\n",
       "    <tr>\n",
       "      <th>103358215</th>\n",
       "      <td>14612</td>\n",
       "      <td>Cynthia</td>\n",
       "      <td>Noble</td>\n",
       "      <td>Female</td>\n",
       "      <td>NY</td>\n",
       "      <td>55</td>\n",
       "      <td>1</td>\n",
       "      <td>married</td>\n",
       "      <td>NaN</td>\n",
       "      <td>-16575</td>\n",
       "      <td>...</td>\n",
       "      <td>Average Orders</td>\n",
       "      <td>7.46875</td>\n",
       "      <td>Low Spender</td>\n",
       "      <td>30.0</td>\n",
       "      <td>Non-frequent customer</td>\n",
       "      <td>9</td>\n",
       "      <td>New customer</td>\n",
       "      <td>Mid_Atlantic</td>\n",
       "      <td>high</td>\n",
       "      <td>NaN</td>\n",
       "    </tr>\n",
       "    <tr>\n",
       "      <th>103358216</th>\n",
       "      <td>14612</td>\n",
       "      <td>Cynthia</td>\n",
       "      <td>Noble</td>\n",
       "      <td>Female</td>\n",
       "      <td>NY</td>\n",
       "      <td>55</td>\n",
       "      <td>1</td>\n",
       "      <td>married</td>\n",
       "      <td>NaN</td>\n",
       "      <td>-16575</td>\n",
       "      <td>...</td>\n",
       "      <td>Most Orders</td>\n",
       "      <td>7.46875</td>\n",
       "      <td>Low Spender</td>\n",
       "      <td>30.0</td>\n",
       "      <td>Non-frequent customer</td>\n",
       "      <td>9</td>\n",
       "      <td>New customer</td>\n",
       "      <td>Mid_Atlantic</td>\n",
       "      <td>high</td>\n",
       "      <td>NaN</td>\n",
       "    </tr>\n",
       "    <tr>\n",
       "      <th>103358217</th>\n",
       "      <td>14612</td>\n",
       "      <td>Cynthia</td>\n",
       "      <td>Noble</td>\n",
       "      <td>Female</td>\n",
       "      <td>NY</td>\n",
       "      <td>55</td>\n",
       "      <td>1</td>\n",
       "      <td>married</td>\n",
       "      <td>NaN</td>\n",
       "      <td>-16301</td>\n",
       "      <td>...</td>\n",
       "      <td>Most Orders</td>\n",
       "      <td>7.46875</td>\n",
       "      <td>Low Spender</td>\n",
       "      <td>30.0</td>\n",
       "      <td>Non-frequent customer</td>\n",
       "      <td>9</td>\n",
       "      <td>New customer</td>\n",
       "      <td>Mid_Atlantic</td>\n",
       "      <td>high</td>\n",
       "      <td>NaN</td>\n",
       "    </tr>\n",
       "    <tr>\n",
       "      <th>103358218</th>\n",
       "      <td>14612</td>\n",
       "      <td>Cynthia</td>\n",
       "      <td>Noble</td>\n",
       "      <td>Female</td>\n",
       "      <td>NY</td>\n",
       "      <td>55</td>\n",
       "      <td>1</td>\n",
       "      <td>married</td>\n",
       "      <td>NaN</td>\n",
       "      <td>-16301</td>\n",
       "      <td>...</td>\n",
       "      <td>Most Orders</td>\n",
       "      <td>7.46875</td>\n",
       "      <td>Low Spender</td>\n",
       "      <td>30.0</td>\n",
       "      <td>Non-frequent customer</td>\n",
       "      <td>9</td>\n",
       "      <td>New customer</td>\n",
       "      <td>Mid_Atlantic</td>\n",
       "      <td>high</td>\n",
       "      <td>NaN</td>\n",
       "    </tr>\n",
       "  </tbody>\n",
       "</table>\n",
       "<p>5 rows × 32 columns</p>\n",
       "</div>"
      ],
      "text/plain": [
       "           user_id First Name Last Name  Gender State  Age  dependants  \\\n",
       "103358214    14612    Cynthia     Noble  Female    NY   55           1   \n",
       "103358215    14612    Cynthia     Noble  Female    NY   55           1   \n",
       "103358216    14612    Cynthia     Noble  Female    NY   55           1   \n",
       "103358217    14612    Cynthia     Noble  Female    NY   55           1   \n",
       "103358218    14612    Cynthia     Noble  Female    NY   55           1   \n",
       "\n",
       "          fam_status  income  product_id  ... busiest_period_of_day  spending  \\\n",
       "103358214    married     NaN      -16575  ...           Most Orders   7.46875   \n",
       "103358215    married     NaN      -16575  ...        Average Orders   7.46875   \n",
       "103358216    married     NaN      -16575  ...           Most Orders   7.46875   \n",
       "103358217    married     NaN      -16301  ...           Most Orders   7.46875   \n",
       "103358218    married     NaN      -16301  ...           Most Orders   7.46875   \n",
       "\n",
       "           spending_flag  frequency         frequency_flag  max_order  \\\n",
       "103358214    Low Spender       30.0  Non-frequent customer          9   \n",
       "103358215    Low Spender       30.0  Non-frequent customer          9   \n",
       "103358216    Low Spender       30.0  Non-frequent customer          9   \n",
       "103358217    Low Spender       30.0  Non-frequent customer          9   \n",
       "103358218    Low Spender       30.0  Non-frequent customer          9   \n",
       "\n",
       "           loyalty_flag        region  activity  income_level  \n",
       "103358214  New customer  Mid_Atlantic      high           NaN  \n",
       "103358215  New customer  Mid_Atlantic      high           NaN  \n",
       "103358216  New customer  Mid_Atlantic      high           NaN  \n",
       "103358217  New customer  Mid_Atlantic      high           NaN  \n",
       "103358218  New customer  Mid_Atlantic      high           NaN  \n",
       "\n",
       "[5 rows x 32 columns]"
      ]
     },
     "execution_count": 31,
     "metadata": {},
     "output_type": "execute_result"
    }
   ],
   "source": [
    "cust_ords_new.tail()"
   ]
  },
  {
   "cell_type": "code",
   "execution_count": 32,
   "id": "f928ac63",
   "metadata": {},
   "outputs": [
    {
     "data": {
      "text/plain": [
       "NaN           53665723\n",
       "low_income    49218403\n",
       "Name: income_level, dtype: int64"
      ]
     },
     "execution_count": 32,
     "metadata": {},
     "output_type": "execute_result"
    }
   ],
   "source": [
    "cust_ords_new['income_level'].value_counts(dropna = False)"
   ]
  },
  {
   "cell_type": "code",
   "execution_count": 33,
   "id": "c4177b18",
   "metadata": {},
   "outputs": [
    {
     "data": {
      "text/plain": [
       "25.0"
      ]
     },
     "execution_count": 33,
     "metadata": {},
     "output_type": "execute_result"
    }
   ],
   "source": [
    "#double check prices, looks like 4.9 fix did not save, but scatterplot visualization is OK. \n",
    "cust_ords_new['prices'].max()"
   ]
  },
  {
   "cell_type": "code",
   "execution_count": 34,
   "id": "fc8d2ce6",
   "metadata": {},
   "outputs": [],
   "source": [
    "#income level-spending\n",
    "\n",
    "crosstab_inc_lev_spend = pd.crosstab(cust_ords_new['prices'].mean(), cust_ords_new['income_level'])\n",
    "crosstab_inc_lev_spend.to_clipboard()"
   ]
  },
  {
   "cell_type": "code",
   "execution_count": 35,
   "id": "5833bf76",
   "metadata": {},
   "outputs": [
    {
     "data": {
      "text/plain": [
       "<AxesSubplot:xlabel='prices', ylabel='prices'>"
      ]
     },
     "execution_count": 35,
     "metadata": {},
     "output_type": "execute_result"
    },
    {
     "data": {
      "image/png": "[encoded data removed]",
      "text/plain": [
       "<Figure size 432x288 with 1 Axes>"
      ]
     },
     "metadata": {
      "needs_background": "light"
     },
     "output_type": "display_data"
    }
   ],
   "source": [
    "#See what price check visualization looks like. Max price is OK. \n",
    "sns.scatterplot(x= 'prices', y = 'prices', data = cust_ords_new)"
   ]
  },
  {
   "cell_type": "code",
   "execution_count": 36,
   "id": "5c8e76b3",
   "metadata": {},
   "outputs": [],
   "source": [
    "#Assign random numbers, create list of true/ false values \n",
    "\n",
    "dev = np.random.rand(len(cust_ords_new)) <= 0.7"
   ]
  },
  {
   "cell_type": "code",
   "execution_count": 37,
   "id": "652f169e",
   "metadata": {},
   "outputs": [],
   "source": [
    "#Store 70% in big\n",
    "\n",
    "big = cust_ords_new[dev]"
   ]
  },
  {
   "cell_type": "code",
   "execution_count": 38,
   "id": "09b1de29",
   "metadata": {},
   "outputs": [],
   "source": [
    "#store rest in small\n",
    "\n",
    "small = cust_ords_new[~dev]"
   ]
  },
  {
   "cell_type": "code",
   "execution_count": 39,
   "id": "9246ba27",
   "metadata": {},
   "outputs": [
    {
     "data": {
      "image/png": "[encoded data removed]",
      "text/plain": [
       "<Figure size 432x288 with 1 Axes>"
      ]
     },
     "metadata": {
      "needs_background": "light"
     },
     "output_type": "display_data"
    }
   ],
   "source": [
    "#Customer Loyalty\n",
    "\n",
    "loyal_bar = cust_ords_new['loyalty_flag'].value_counts().plot.bar(color = ['red', 'blue', 'green'])"
   ]
  },
  {
   "cell_type": "code",
   "execution_count": 55,
   "id": "ced03e6f",
   "metadata": {},
   "outputs": [],
   "source": [
    "#Save graph\n",
    "\n",
    "loyal_bar.figure.savefig('Loyalty_Bar.png')"
   ]
  },
  {
   "cell_type": "code",
   "execution_count": 46,
   "id": "eb9eddf0",
   "metadata": {},
   "outputs": [],
   "source": [
    "#Subgroup Loyalty, department id\n",
    "\n",
    "loyalty_dept_bar = cust_ords_new.groupby(['department_id', 'loyalty_flag'])['department_id'].count().unstack('loyalty_flag').fillna(0)"
   ]
  },
  {
   "cell_type": "code",
   "execution_count": 47,
   "id": "b02198d3",
   "metadata": {},
   "outputs": [
    {
     "data": {
      "text/plain": [
       "<matplotlib.legend.Legend at 0x7fb2120852b0>"
      ]
     },
     "execution_count": 47,
     "metadata": {},
     "output_type": "execute_result"
    },
    {
     "data": {
      "image/png": "[encoded data removed]",
      "text/plain": [
       "<Figure size 432x288 with 1 Axes>"
      ]
     },
     "metadata": {
      "needs_background": "light"
     },
     "output_type": "display_data"
    }
   ],
   "source": [
    "#Edited visual of graph and got this error. Not sure how code changed to make error. Saved previous iteration just in time.\n",
    "\n",
    "loyalty_dept_bar = loyalty_dept_bar.plot.bar(stacked = True, color = ['red', 'blue', 'green'])\n",
    "plt.legend(title='Loyalty_Status')"
   ]
  },
  {
   "cell_type": "code",
   "execution_count": 48,
   "id": "4fefbb9e",
   "metadata": {},
   "outputs": [],
   "source": [
    "#loyalty-Dept\n",
    "\n",
    "crosstab_loyalty_dept = pd.crosstab(cust_ords_new['loyalty_flag'], cust_ords_new['department_id'], dropna = False)\n"
   ]
  },
  {
   "cell_type": "code",
   "execution_count": 49,
   "id": "afb5092b",
   "metadata": {},
   "outputs": [],
   "source": [
    "#table\n",
    "crosstab_loyalty_dept\n",
    "pd.options.display.max_columns = None"
   ]
  },
  {
   "cell_type": "code",
   "execution_count": 50,
   "id": "a14ee0f8",
   "metadata": {},
   "outputs": [
    {
     "data": {
      "text/html": [
       "<div>\n",
       "<style scoped>\n",
       "    .dataframe tbody tr th:only-of-type {\n",
       "        vertical-align: middle;\n",
       "    }\n",
       "\n",
       "    .dataframe tbody tr th {\n",
       "        vertical-align: top;\n",
       "    }\n",
       "\n",
       "    .dataframe thead th {\n",
       "        text-align: right;\n",
       "    }\n",
       "</style>\n",
       "<table border=\"1\" class=\"dataframe\">\n",
       "  <thead>\n",
       "    <tr style=\"text-align: right;\">\n",
       "      <th>department_id</th>\n",
       "      <th>1</th>\n",
       "      <th>2</th>\n",
       "      <th>3</th>\n",
       "      <th>4</th>\n",
       "      <th>5</th>\n",
       "      <th>6</th>\n",
       "      <th>7</th>\n",
       "      <th>8</th>\n",
       "      <th>9</th>\n",
       "      <th>10</th>\n",
       "      <th>11</th>\n",
       "      <th>12</th>\n",
       "      <th>13</th>\n",
       "      <th>14</th>\n",
       "      <th>15</th>\n",
       "      <th>16</th>\n",
       "      <th>17</th>\n",
       "      <th>18</th>\n",
       "      <th>19</th>\n",
       "      <th>20</th>\n",
       "      <th>21</th>\n",
       "    </tr>\n",
       "    <tr>\n",
       "      <th>loyalty_flag</th>\n",
       "      <th></th>\n",
       "      <th></th>\n",
       "      <th></th>\n",
       "      <th></th>\n",
       "      <th></th>\n",
       "      <th></th>\n",
       "      <th></th>\n",
       "      <th></th>\n",
       "      <th></th>\n",
       "      <th></th>\n",
       "      <th></th>\n",
       "      <th></th>\n",
       "      <th></th>\n",
       "      <th></th>\n",
       "      <th></th>\n",
       "      <th></th>\n",
       "      <th></th>\n",
       "      <th></th>\n",
       "      <th></th>\n",
       "      <th></th>\n",
       "      <th></th>\n",
       "    </tr>\n",
       "  </thead>\n",
       "  <tbody>\n",
       "    <tr>\n",
       "      <th>Loyal customer</th>\n",
       "      <td>2845576</td>\n",
       "      <td>48726</td>\n",
       "      <td>1656871</td>\n",
       "      <td>13555034</td>\n",
       "      <td>187494</td>\n",
       "      <td>356111</td>\n",
       "      <td>3743756</td>\n",
       "      <td>122518</td>\n",
       "      <td>1114211</td>\n",
       "      <td>55449</td>\n",
       "      <td>570639</td>\n",
       "      <td>921278</td>\n",
       "      <td>2514787</td>\n",
       "      <td>982401</td>\n",
       "      <td>1365524</td>\n",
       "      <td>7836252</td>\n",
       "      <td>926274</td>\n",
       "      <td>671836</td>\n",
       "      <td>4087041</td>\n",
       "      <td>1443833</td>\n",
       "      <td>86038</td>\n",
       "    </tr>\n",
       "    <tr>\n",
       "      <th>New customer</th>\n",
       "      <td>375609</td>\n",
       "      <td>5734</td>\n",
       "      <td>171640</td>\n",
       "      <td>1337293</td>\n",
       "      <td>29065</td>\n",
       "      <td>43900</td>\n",
       "      <td>393057</td>\n",
       "      <td>15648</td>\n",
       "      <td>147187</td>\n",
       "      <td>3909</td>\n",
       "      <td>76322</td>\n",
       "      <td>113075</td>\n",
       "      <td>299817</td>\n",
       "      <td>106734</td>\n",
       "      <td>182109</td>\n",
       "      <td>759371</td>\n",
       "      <td>129379</td>\n",
       "      <td>46240</td>\n",
       "      <td>412342</td>\n",
       "      <td>158709</td>\n",
       "      <td>13225</td>\n",
       "    </tr>\n",
       "    <tr>\n",
       "      <th>Regular customer</th>\n",
       "      <td>3866357</td>\n",
       "      <td>60352</td>\n",
       "      <td>1903951</td>\n",
       "      <td>15177440</td>\n",
       "      <td>269439</td>\n",
       "      <td>453807</td>\n",
       "      <td>4396447</td>\n",
       "      <td>172426</td>\n",
       "      <td>1485531</td>\n",
       "      <td>50104</td>\n",
       "      <td>772301</td>\n",
       "      <td>1211709</td>\n",
       "      <td>3132507</td>\n",
       "      <td>1164105</td>\n",
       "      <td>1837880</td>\n",
       "      <td>8588164</td>\n",
       "      <td>1287249</td>\n",
       "      <td>626589</td>\n",
       "      <td>4663934</td>\n",
       "      <td>1732387</td>\n",
       "      <td>119433</td>\n",
       "    </tr>\n",
       "  </tbody>\n",
       "</table>\n",
       "</div>"
      ],
      "text/plain": [
       "department_id          1      2        3         4       5       6        7   \\\n",
       "loyalty_flag                                                                   \n",
       "Loyal customer    2845576  48726  1656871  13555034  187494  356111  3743756   \n",
       "New customer       375609   5734   171640   1337293   29065   43900   393057   \n",
       "Regular customer  3866357  60352  1903951  15177440  269439  453807  4396447   \n",
       "\n",
       "department_id         8        9      10      11       12       13       14  \\\n",
       "loyalty_flag                                                                  \n",
       "Loyal customer    122518  1114211  55449  570639   921278  2514787   982401   \n",
       "New customer       15648   147187   3909   76322   113075   299817   106734   \n",
       "Regular customer  172426  1485531  50104  772301  1211709  3132507  1164105   \n",
       "\n",
       "department_id          15       16       17      18       19       20      21  \n",
       "loyalty_flag                                                                   \n",
       "Loyal customer    1365524  7836252   926274  671836  4087041  1443833   86038  \n",
       "New customer       182109   759371   129379   46240   412342   158709   13225  \n",
       "Regular customer  1837880  8588164  1287249  626589  4663934  1732387  119433  "
      ]
     },
     "execution_count": 50,
     "metadata": {},
     "output_type": "execute_result"
    }
   ],
   "source": [
    "crosstab_loyalty_dept"
   ]
  },
  {
   "cell_type": "code",
   "execution_count": 54,
   "id": "a0b90ac4",
   "metadata": {},
   "outputs": [],
   "source": [
    "loyalty_dept_bar.figure.savefig('loyalty_dept_bar.png')"
   ]
  },
  {
   "cell_type": "code",
   "execution_count": 56,
   "id": "9d4ddd41",
   "metadata": {
    "scrolled": true
   },
   "outputs": [
    {
     "data": {
      "image/png": "[encoded data removed]",
      "text/plain": [
       "<Figure size 432x288 with 1 Axes>"
      ]
     },
     "metadata": {
      "needs_background": "light"
     },
     "output_type": "display_data"
    }
   ],
   "source": [
    "#Loyalty status affects amount spent\n",
    "\n",
    "loyal_price_bar = cust_ords_new['loyalty_flag'].value_counts('prices').plot.bar(color = ['red', 'blue', 'green'])"
   ]
  },
  {
   "cell_type": "code",
   "execution_count": 57,
   "id": "663100d2",
   "metadata": {},
   "outputs": [],
   "source": [
    "loyal_price_bar.figure.savefig('loyal_price_bar.png')"
   ]
  },
  {
   "cell_type": "code",
   "execution_count": 58,
   "id": "c291d54b",
   "metadata": {},
   "outputs": [],
   "source": [
    "#loyalty-time\n",
    "\n",
    "crosstab_loyalty_time = pd.crosstab(cust_ords_new['loyalty_flag'], cust_ords_new['order_hour_of_day'], dropna = False)"
   ]
  },
  {
   "cell_type": "code",
   "execution_count": 59,
   "id": "415dcf02",
   "metadata": {},
   "outputs": [
    {
     "data": {
      "text/html": [
       "<div>\n",
       "<style scoped>\n",
       "    .dataframe tbody tr th:only-of-type {\n",
       "        vertical-align: middle;\n",
       "    }\n",
       "\n",
       "    .dataframe tbody tr th {\n",
       "        vertical-align: top;\n",
       "    }\n",
       "\n",
       "    .dataframe thead th {\n",
       "        text-align: right;\n",
       "    }\n",
       "</style>\n",
       "<table border=\"1\" class=\"dataframe\">\n",
       "  <thead>\n",
       "    <tr style=\"text-align: right;\">\n",
       "      <th>loyalty_flag</th>\n",
       "      <th>Loyal customer</th>\n",
       "      <th>New customer</th>\n",
       "      <th>Regular customer</th>\n",
       "    </tr>\n",
       "    <tr>\n",
       "      <th>order_hour_of_day</th>\n",
       "      <th></th>\n",
       "      <th></th>\n",
       "      <th></th>\n",
       "    </tr>\n",
       "  </thead>\n",
       "  <tbody>\n",
       "    <tr>\n",
       "      <th>0</th>\n",
       "      <td>284534</td>\n",
       "      <td>35977</td>\n",
       "      <td>374775</td>\n",
       "    </tr>\n",
       "    <tr>\n",
       "      <th>1</th>\n",
       "      <td>142957</td>\n",
       "      <td>19873</td>\n",
       "      <td>203873</td>\n",
       "    </tr>\n",
       "    <tr>\n",
       "      <th>2</th>\n",
       "      <td>84011</td>\n",
       "      <td>12636</td>\n",
       "      <td>123259</td>\n",
       "    </tr>\n",
       "    <tr>\n",
       "      <th>3</th>\n",
       "      <td>62753</td>\n",
       "      <td>9539</td>\n",
       "      <td>90321</td>\n",
       "    </tr>\n",
       "    <tr>\n",
       "      <th>4</th>\n",
       "      <td>73688</td>\n",
       "      <td>7133</td>\n",
       "      <td>87880</td>\n",
       "    </tr>\n",
       "    <tr>\n",
       "      <th>5</th>\n",
       "      <td>126166</td>\n",
       "      <td>12439</td>\n",
       "      <td>140219</td>\n",
       "    </tr>\n",
       "    <tr>\n",
       "      <th>6</th>\n",
       "      <td>458994</td>\n",
       "      <td>32958</td>\n",
       "      <td>430176</td>\n",
       "    </tr>\n",
       "    <tr>\n",
       "      <th>7</th>\n",
       "      <td>1413742</td>\n",
       "      <td>100117</td>\n",
       "      <td>1319245</td>\n",
       "    </tr>\n",
       "    <tr>\n",
       "      <th>8</th>\n",
       "      <td>2663649</td>\n",
       "      <td>207141</td>\n",
       "      <td>2588921</td>\n",
       "    </tr>\n",
       "    <tr>\n",
       "      <th>9</th>\n",
       "      <td>3683373</td>\n",
       "      <td>310378</td>\n",
       "      <td>3802714</td>\n",
       "    </tr>\n",
       "    <tr>\n",
       "      <th>10</th>\n",
       "      <td>3996223</td>\n",
       "      <td>386435</td>\n",
       "      <td>4389266</td>\n",
       "    </tr>\n",
       "    <tr>\n",
       "      <th>11</th>\n",
       "      <td>3811980</td>\n",
       "      <td>408658</td>\n",
       "      <td>4467521</td>\n",
       "    </tr>\n",
       "    <tr>\n",
       "      <th>12</th>\n",
       "      <td>3579444</td>\n",
       "      <td>402197</td>\n",
       "      <td>4333154</td>\n",
       "    </tr>\n",
       "    <tr>\n",
       "      <th>13</th>\n",
       "      <td>3639305</td>\n",
       "      <td>407452</td>\n",
       "      <td>4395636</td>\n",
       "    </tr>\n",
       "    <tr>\n",
       "      <th>14</th>\n",
       "      <td>3693016</td>\n",
       "      <td>409769</td>\n",
       "      <td>4433610</td>\n",
       "    </tr>\n",
       "    <tr>\n",
       "      <th>15</th>\n",
       "      <td>3612370</td>\n",
       "      <td>417914</td>\n",
       "      <td>4421860</td>\n",
       "    </tr>\n",
       "    <tr>\n",
       "      <th>16</th>\n",
       "      <td>3357145</td>\n",
       "      <td>406239</td>\n",
       "      <td>4284833</td>\n",
       "    </tr>\n",
       "    <tr>\n",
       "      <th>17</th>\n",
       "      <td>2687569</td>\n",
       "      <td>347084</td>\n",
       "      <td>3591753</td>\n",
       "    </tr>\n",
       "    <tr>\n",
       "      <th>18</th>\n",
       "      <td>2106578</td>\n",
       "      <td>272327</td>\n",
       "      <td>2815205</td>\n",
       "    </tr>\n",
       "    <tr>\n",
       "      <th>19</th>\n",
       "      <td>1665881</td>\n",
       "      <td>201282</td>\n",
       "      <td>2125475</td>\n",
       "    </tr>\n",
       "    <tr>\n",
       "      <th>20</th>\n",
       "      <td>1362809</td>\n",
       "      <td>151156</td>\n",
       "      <td>1583685</td>\n",
       "    </tr>\n",
       "    <tr>\n",
       "      <th>21</th>\n",
       "      <td>1140891</td>\n",
       "      <td>111293</td>\n",
       "      <td>1273321</td>\n",
       "    </tr>\n",
       "    <tr>\n",
       "      <th>22</th>\n",
       "      <td>896771</td>\n",
       "      <td>89967</td>\n",
       "      <td>1027883</td>\n",
       "    </tr>\n",
       "    <tr>\n",
       "      <th>23</th>\n",
       "      <td>547800</td>\n",
       "      <td>60401</td>\n",
       "      <td>667527</td>\n",
       "    </tr>\n",
       "  </tbody>\n",
       "</table>\n",
       "</div>"
      ],
      "text/plain": [
       "loyalty_flag       Loyal customer  New customer  Regular customer\n",
       "order_hour_of_day                                                \n",
       "0                          284534         35977            374775\n",
       "1                          142957         19873            203873\n",
       "2                           84011         12636            123259\n",
       "3                           62753          9539             90321\n",
       "4                           73688          7133             87880\n",
       "5                          126166         12439            140219\n",
       "6                          458994         32958            430176\n",
       "7                         1413742        100117           1319245\n",
       "8                         2663649        207141           2588921\n",
       "9                         3683373        310378           3802714\n",
       "10                        3996223        386435           4389266\n",
       "11                        3811980        408658           4467521\n",
       "12                        3579444        402197           4333154\n",
       "13                        3639305        407452           4395636\n",
       "14                        3693016        409769           4433610\n",
       "15                        3612370        417914           4421860\n",
       "16                        3357145        406239           4284833\n",
       "17                        2687569        347084           3591753\n",
       "18                        2106578        272327           2815205\n",
       "19                        1665881        201282           2125475\n",
       "20                        1362809        151156           1583685\n",
       "21                        1140891        111293           1273321\n",
       "22                         896771         89967           1027883\n",
       "23                         547800         60401            667527"
      ]
     },
     "execution_count": 59,
     "metadata": {},
     "output_type": "execute_result"
    }
   ],
   "source": [
    "crosstab_loyalty_time.T"
   ]
  },
  {
   "cell_type": "code",
   "execution_count": 60,
   "id": "8ab6b15b",
   "metadata": {},
   "outputs": [],
   "source": [
    "crosstab_loyalty_time.to_clipboard()"
   ]
  },
  {
   "cell_type": "code",
   "execution_count": 61,
   "id": "9210a591",
   "metadata": {},
   "outputs": [],
   "source": [
    "crosstab_loyalty_time_T = crosstab_loyalty_time.T"
   ]
  },
  {
   "cell_type": "code",
   "execution_count": 62,
   "id": "6bcbf8e3",
   "metadata": {},
   "outputs": [
    {
     "data": {
      "text/plain": [
       "<matplotlib.legend.Legend at 0x7fb392e31c70>"
      ]
     },
     "execution_count": 62,
     "metadata": {},
     "output_type": "execute_result"
    },
    {
     "data": {
      "image/png": "[encoded data removed]",
      "text/plain": [
       "<Figure size 432x288 with 1 Axes>"
      ]
     },
     "metadata": {
      "needs_background": "light"
     },
     "output_type": "display_data"
    }
   ],
   "source": [
    "loyalty_time_bar_T = crosstab_loyalty_time_T.plot.bar(stacked= True, color = ['red', 'blue', 'green'])\n",
    "plt.legend(title='Loyalty_Status')"
   ]
  },
  {
   "cell_type": "code",
   "execution_count": 63,
   "id": "fc4b5424",
   "metadata": {},
   "outputs": [],
   "source": [
    "loyalty_time_bar_T.figure.savefig('loyalty_time_bar_T.png')"
   ]
  },
  {
   "cell_type": "code",
   "execution_count": 64,
   "id": "34922e59",
   "metadata": {},
   "outputs": [],
   "source": [
    "#Loyalty ordering habits-Day\n",
    "\n",
    "crosstab_loyal_day = pd.crosstab(cust_ords_new['loyalty_flag'], cust_ords_new['order_dow'], dropna = False)\n",
    "crosstab_loyal_day.to_clipboard()"
   ]
  },
  {
   "cell_type": "code",
   "execution_count": 65,
   "id": "09ae0349",
   "metadata": {},
   "outputs": [
    {
     "data": {
      "text/html": [
       "<div>\n",
       "<style scoped>\n",
       "    .dataframe tbody tr th:only-of-type {\n",
       "        vertical-align: middle;\n",
       "    }\n",
       "\n",
       "    .dataframe tbody tr th {\n",
       "        vertical-align: top;\n",
       "    }\n",
       "\n",
       "    .dataframe thead th {\n",
       "        text-align: right;\n",
       "    }\n",
       "</style>\n",
       "<table border=\"1\" class=\"dataframe\">\n",
       "  <thead>\n",
       "    <tr style=\"text-align: right;\">\n",
       "      <th>loyalty_flag</th>\n",
       "      <th>Loyal customer</th>\n",
       "      <th>New customer</th>\n",
       "      <th>Regular customer</th>\n",
       "    </tr>\n",
       "    <tr>\n",
       "      <th>order_dow</th>\n",
       "      <th></th>\n",
       "      <th></th>\n",
       "      <th></th>\n",
       "    </tr>\n",
       "  </thead>\n",
       "  <tbody>\n",
       "    <tr>\n",
       "      <th>0</th>\n",
       "      <td>8071974</td>\n",
       "      <td>974925</td>\n",
       "      <td>10635309</td>\n",
       "    </tr>\n",
       "    <tr>\n",
       "      <th>1</th>\n",
       "      <td>8000854</td>\n",
       "      <td>829443</td>\n",
       "      <td>9141925</td>\n",
       "    </tr>\n",
       "    <tr>\n",
       "      <th>2</th>\n",
       "      <td>5905265</td>\n",
       "      <td>627788</td>\n",
       "      <td>6849999</td>\n",
       "    </tr>\n",
       "    <tr>\n",
       "      <th>3</th>\n",
       "      <td>5477992</td>\n",
       "      <td>573935</td>\n",
       "      <td>6147507</td>\n",
       "    </tr>\n",
       "    <tr>\n",
       "      <th>4</th>\n",
       "      <td>5498499</td>\n",
       "      <td>544977</td>\n",
       "      <td>5975518</td>\n",
       "    </tr>\n",
       "    <tr>\n",
       "      <th>5</th>\n",
       "      <td>6186736</td>\n",
       "      <td>577004</td>\n",
       "      <td>6596844</td>\n",
       "    </tr>\n",
       "    <tr>\n",
       "      <th>6</th>\n",
       "      <td>5950329</td>\n",
       "      <td>692293</td>\n",
       "      <td>7625010</td>\n",
       "    </tr>\n",
       "  </tbody>\n",
       "</table>\n",
       "</div>"
      ],
      "text/plain": [
       "loyalty_flag  Loyal customer  New customer  Regular customer\n",
       "order_dow                                                   \n",
       "0                    8071974        974925          10635309\n",
       "1                    8000854        829443           9141925\n",
       "2                    5905265        627788           6849999\n",
       "3                    5477992        573935           6147507\n",
       "4                    5498499        544977           5975518\n",
       "5                    6186736        577004           6596844\n",
       "6                    5950329        692293           7625010"
      ]
     },
     "execution_count": 65,
     "metadata": {},
     "output_type": "execute_result"
    }
   ],
   "source": [
    "crosstab_loyal_day.T"
   ]
  },
  {
   "cell_type": "code",
   "execution_count": 66,
   "id": "d3fa9e63",
   "metadata": {},
   "outputs": [],
   "source": [
    "#save transposed\n",
    "\n",
    "crosstab_loyal_day_T=crosstab_loyal_day.T"
   ]
  },
  {
   "cell_type": "code",
   "execution_count": 67,
   "id": "e3d2180e",
   "metadata": {},
   "outputs": [
    {
     "data": {
      "text/plain": [
       "<matplotlib.legend.Legend at 0x7fb3668b43d0>"
      ]
     },
     "execution_count": 67,
     "metadata": {},
     "output_type": "execute_result"
    },
    {
     "data": {
      "image/png": "[encoded data removed]",
      "text/plain": [
       "<Figure size 432x288 with 1 Axes>"
      ]
     },
     "metadata": {
      "needs_background": "light"
     },
     "output_type": "display_data"
    }
   ],
   "source": [
    "loyalty_day_bar = crosstab_loyal_day_T.plot.bar(stacked= True, color = ['red', 'blue', 'green'])\n",
    "plt.legend(title='Loyalty_Status')"
   ]
  },
  {
   "cell_type": "code",
   "execution_count": 68,
   "id": "e631c988",
   "metadata": {},
   "outputs": [],
   "source": [
    "loyalty_day_bar.figure.savefig('loyalty_day_bar.png')"
   ]
  },
  {
   "cell_type": "code",
   "execution_count": 71,
   "id": "7be65057",
   "metadata": {},
   "outputs": [
    {
     "data": {
      "image/png": "[encoded data removed]",
      "text/plain": [
       "<Figure size 432x288 with 1 Axes>"
      ]
     },
     "metadata": {
      "needs_background": "light"
     },
     "output_type": "display_data"
    }
   ],
   "source": [
    "#Crosstab region-population\n",
    "\n",
    "region_users_bar = cust_ords_new['region'].value_counts('prices').plot.bar(color = ['red', 'blue', 'green', 'purple', 'orange', 'teal', 'pink', 'grey'])"
   ]
  },
  {
   "cell_type": "code",
   "execution_count": 72,
   "id": "2039ef1e",
   "metadata": {},
   "outputs": [],
   "source": [
    "region_users_bar.figure.savefig('region_users_bar.png')"
   ]
  },
  {
   "cell_type": "code",
   "execution_count": 73,
   "id": "0ad81afe",
   "metadata": {},
   "outputs": [],
   "source": [
    "#Region- Order hour\n",
    "\n",
    "crosstab_region_time = pd.crosstab(cust_ords_new['region'], cust_ords_new['order_hour_of_day'], dropna = False)"
   ]
  },
  {
   "cell_type": "code",
   "execution_count": 79,
   "id": "b4571d4f",
   "metadata": {},
   "outputs": [
    {
     "data": {
      "text/html": [
       "<div>\n",
       "<style scoped>\n",
       "    .dataframe tbody tr th:only-of-type {\n",
       "        vertical-align: middle;\n",
       "    }\n",
       "\n",
       "    .dataframe tbody tr th {\n",
       "        vertical-align: top;\n",
       "    }\n",
       "\n",
       "    .dataframe thead th {\n",
       "        text-align: right;\n",
       "    }\n",
       "</style>\n",
       "<table border=\"1\" class=\"dataframe\">\n",
       "  <thead>\n",
       "    <tr style=\"text-align: right;\">\n",
       "      <th>region</th>\n",
       "      <th>Mid_Atlantic</th>\n",
       "      <th>Mountain</th>\n",
       "      <th>NE_Central</th>\n",
       "      <th>NW_Central</th>\n",
       "      <th>New_England</th>\n",
       "      <th>Pacific</th>\n",
       "      <th>SE_Central</th>\n",
       "      <th>S_Atlantic</th>\n",
       "    </tr>\n",
       "    <tr>\n",
       "      <th>order_hour_of_day</th>\n",
       "      <th></th>\n",
       "      <th></th>\n",
       "      <th></th>\n",
       "      <th></th>\n",
       "      <th></th>\n",
       "      <th></th>\n",
       "      <th></th>\n",
       "      <th></th>\n",
       "    </tr>\n",
       "  </thead>\n",
       "  <tbody>\n",
       "    <tr>\n",
       "      <th>0</th>\n",
       "      <td>41694</td>\n",
       "      <td>93212</td>\n",
       "      <td>69146</td>\n",
       "      <td>93730</td>\n",
       "      <td>81668</td>\n",
       "      <td>137162</td>\n",
       "      <td>54149</td>\n",
       "      <td>124525</td>\n",
       "    </tr>\n",
       "    <tr>\n",
       "      <th>1</th>\n",
       "      <td>22839</td>\n",
       "      <td>50327</td>\n",
       "      <td>35801</td>\n",
       "      <td>50079</td>\n",
       "      <td>44237</td>\n",
       "      <td>69875</td>\n",
       "      <td>29123</td>\n",
       "      <td>64422</td>\n",
       "    </tr>\n",
       "    <tr>\n",
       "      <th>2</th>\n",
       "      <td>12799</td>\n",
       "      <td>31033</td>\n",
       "      <td>22203</td>\n",
       "      <td>29191</td>\n",
       "      <td>26375</td>\n",
       "      <td>42794</td>\n",
       "      <td>16979</td>\n",
       "      <td>38532</td>\n",
       "    </tr>\n",
       "    <tr>\n",
       "      <th>3</th>\n",
       "      <td>9499</td>\n",
       "      <td>22264</td>\n",
       "      <td>15341</td>\n",
       "      <td>22185</td>\n",
       "      <td>18719</td>\n",
       "      <td>32533</td>\n",
       "      <td>14079</td>\n",
       "      <td>27993</td>\n",
       "    </tr>\n",
       "    <tr>\n",
       "      <th>4</th>\n",
       "      <td>10424</td>\n",
       "      <td>22624</td>\n",
       "      <td>16523</td>\n",
       "      <td>23450</td>\n",
       "      <td>19375</td>\n",
       "      <td>33031</td>\n",
       "      <td>14787</td>\n",
       "      <td>28487</td>\n",
       "    </tr>\n",
       "    <tr>\n",
       "      <th>5</th>\n",
       "      <td>16696</td>\n",
       "      <td>37750</td>\n",
       "      <td>25173</td>\n",
       "      <td>37208</td>\n",
       "      <td>32451</td>\n",
       "      <td>55942</td>\n",
       "      <td>22051</td>\n",
       "      <td>51553</td>\n",
       "    </tr>\n",
       "    <tr>\n",
       "      <th>6</th>\n",
       "      <td>55358</td>\n",
       "      <td>124157</td>\n",
       "      <td>88975</td>\n",
       "      <td>127677</td>\n",
       "      <td>108251</td>\n",
       "      <td>178944</td>\n",
       "      <td>74433</td>\n",
       "      <td>164333</td>\n",
       "    </tr>\n",
       "    <tr>\n",
       "      <th>7</th>\n",
       "      <td>166802</td>\n",
       "      <td>386427</td>\n",
       "      <td>268768</td>\n",
       "      <td>396325</td>\n",
       "      <td>331404</td>\n",
       "      <td>557734</td>\n",
       "      <td>229268</td>\n",
       "      <td>496376</td>\n",
       "    </tr>\n",
       "    <tr>\n",
       "      <th>8</th>\n",
       "      <td>320827</td>\n",
       "      <td>746859</td>\n",
       "      <td>533659</td>\n",
       "      <td>751339</td>\n",
       "      <td>637837</td>\n",
       "      <td>1069380</td>\n",
       "      <td>431765</td>\n",
       "      <td>968045</td>\n",
       "    </tr>\n",
       "    <tr>\n",
       "      <th>9</th>\n",
       "      <td>458689</td>\n",
       "      <td>1072395</td>\n",
       "      <td>759591</td>\n",
       "      <td>1071281</td>\n",
       "      <td>906266</td>\n",
       "      <td>1545482</td>\n",
       "      <td>617234</td>\n",
       "      <td>1365527</td>\n",
       "    </tr>\n",
       "    <tr>\n",
       "      <th>10</th>\n",
       "      <td>519372</td>\n",
       "      <td>1204201</td>\n",
       "      <td>857799</td>\n",
       "      <td>1204349</td>\n",
       "      <td>1027515</td>\n",
       "      <td>1728024</td>\n",
       "      <td>694923</td>\n",
       "      <td>1535741</td>\n",
       "    </tr>\n",
       "    <tr>\n",
       "      <th>11</th>\n",
       "      <td>511840</td>\n",
       "      <td>1191025</td>\n",
       "      <td>855831</td>\n",
       "      <td>1196493</td>\n",
       "      <td>1019578</td>\n",
       "      <td>1719464</td>\n",
       "      <td>687481</td>\n",
       "      <td>1506447</td>\n",
       "    </tr>\n",
       "    <tr>\n",
       "      <th>12</th>\n",
       "      <td>494770</td>\n",
       "      <td>1142054</td>\n",
       "      <td>815666</td>\n",
       "      <td>1141206</td>\n",
       "      <td>975455</td>\n",
       "      <td>1636103</td>\n",
       "      <td>655496</td>\n",
       "      <td>1454045</td>\n",
       "    </tr>\n",
       "    <tr>\n",
       "      <th>13</th>\n",
       "      <td>500480</td>\n",
       "      <td>1160877</td>\n",
       "      <td>820042</td>\n",
       "      <td>1160155</td>\n",
       "      <td>998102</td>\n",
       "      <td>1660329</td>\n",
       "      <td>661933</td>\n",
       "      <td>1480475</td>\n",
       "    </tr>\n",
       "    <tr>\n",
       "      <th>14</th>\n",
       "      <td>504539</td>\n",
       "      <td>1176481</td>\n",
       "      <td>832802</td>\n",
       "      <td>1168669</td>\n",
       "      <td>1005176</td>\n",
       "      <td>1680591</td>\n",
       "      <td>669627</td>\n",
       "      <td>1498510</td>\n",
       "    </tr>\n",
       "    <tr>\n",
       "      <th>15</th>\n",
       "      <td>495151</td>\n",
       "      <td>1157721</td>\n",
       "      <td>833847</td>\n",
       "      <td>1168000</td>\n",
       "      <td>983802</td>\n",
       "      <td>1663398</td>\n",
       "      <td>665615</td>\n",
       "      <td>1484610</td>\n",
       "    </tr>\n",
       "    <tr>\n",
       "      <th>16</th>\n",
       "      <td>475872</td>\n",
       "      <td>1099053</td>\n",
       "      <td>784820</td>\n",
       "      <td>1116619</td>\n",
       "      <td>939045</td>\n",
       "      <td>1576710</td>\n",
       "      <td>636620</td>\n",
       "      <td>1419478</td>\n",
       "    </tr>\n",
       "    <tr>\n",
       "      <th>17</th>\n",
       "      <td>392075</td>\n",
       "      <td>909746</td>\n",
       "      <td>643729</td>\n",
       "      <td>912112</td>\n",
       "      <td>774376</td>\n",
       "      <td>1299714</td>\n",
       "      <td>522580</td>\n",
       "      <td>1172074</td>\n",
       "    </tr>\n",
       "    <tr>\n",
       "      <th>18</th>\n",
       "      <td>309796</td>\n",
       "      <td>717917</td>\n",
       "      <td>505751</td>\n",
       "      <td>719561</td>\n",
       "      <td>602758</td>\n",
       "      <td>1012209</td>\n",
       "      <td>415244</td>\n",
       "      <td>910874</td>\n",
       "    </tr>\n",
       "    <tr>\n",
       "      <th>19</th>\n",
       "      <td>235837</td>\n",
       "      <td>547512</td>\n",
       "      <td>393077</td>\n",
       "      <td>550742</td>\n",
       "      <td>461525</td>\n",
       "      <td>781531</td>\n",
       "      <td>317679</td>\n",
       "      <td>704735</td>\n",
       "    </tr>\n",
       "    <tr>\n",
       "      <th>20</th>\n",
       "      <td>182585</td>\n",
       "      <td>427891</td>\n",
       "      <td>303261</td>\n",
       "      <td>425196</td>\n",
       "      <td>360797</td>\n",
       "      <td>604585</td>\n",
       "      <td>248619</td>\n",
       "      <td>544716</td>\n",
       "    </tr>\n",
       "    <tr>\n",
       "      <th>21</th>\n",
       "      <td>150499</td>\n",
       "      <td>341128</td>\n",
       "      <td>245580</td>\n",
       "      <td>343929</td>\n",
       "      <td>292132</td>\n",
       "      <td>502826</td>\n",
       "      <td>199096</td>\n",
       "      <td>450315</td>\n",
       "    </tr>\n",
       "    <tr>\n",
       "      <th>22</th>\n",
       "      <td>123850</td>\n",
       "      <td>275746</td>\n",
       "      <td>197934</td>\n",
       "      <td>277369</td>\n",
       "      <td>236538</td>\n",
       "      <td>389399</td>\n",
       "      <td>156437</td>\n",
       "      <td>357348</td>\n",
       "    </tr>\n",
       "    <tr>\n",
       "      <th>23</th>\n",
       "      <td>79138</td>\n",
       "      <td>173390</td>\n",
       "      <td>123392</td>\n",
       "      <td>170812</td>\n",
       "      <td>152938</td>\n",
       "      <td>244812</td>\n",
       "      <td>98082</td>\n",
       "      <td>233164</td>\n",
       "    </tr>\n",
       "  </tbody>\n",
       "</table>\n",
       "</div>"
      ],
      "text/plain": [
       "region             Mid_Atlantic  Mountain  NE_Central  NW_Central  \\\n",
       "order_hour_of_day                                                   \n",
       "0                         41694     93212       69146       93730   \n",
       "1                         22839     50327       35801       50079   \n",
       "2                         12799     31033       22203       29191   \n",
       "3                          9499     22264       15341       22185   \n",
       "4                         10424     22624       16523       23450   \n",
       "5                         16696     37750       25173       37208   \n",
       "6                         55358    124157       88975      127677   \n",
       "7                        166802    386427      268768      396325   \n",
       "8                        320827    746859      533659      751339   \n",
       "9                        458689   1072395      759591     1071281   \n",
       "10                       519372   1204201      857799     1204349   \n",
       "11                       511840   1191025      855831     1196493   \n",
       "12                       494770   1142054      815666     1141206   \n",
       "13                       500480   1160877      820042     1160155   \n",
       "14                       504539   1176481      832802     1168669   \n",
       "15                       495151   1157721      833847     1168000   \n",
       "16                       475872   1099053      784820     1116619   \n",
       "17                       392075    909746      643729      912112   \n",
       "18                       309796    717917      505751      719561   \n",
       "19                       235837    547512      393077      550742   \n",
       "20                       182585    427891      303261      425196   \n",
       "21                       150499    341128      245580      343929   \n",
       "22                       123850    275746      197934      277369   \n",
       "23                        79138    173390      123392      170812   \n",
       "\n",
       "region             New_England  Pacific  SE_Central  S_Atlantic  \n",
       "order_hour_of_day                                                \n",
       "0                        81668   137162       54149      124525  \n",
       "1                        44237    69875       29123       64422  \n",
       "2                        26375    42794       16979       38532  \n",
       "3                        18719    32533       14079       27993  \n",
       "4                        19375    33031       14787       28487  \n",
       "5                        32451    55942       22051       51553  \n",
       "6                       108251   178944       74433      164333  \n",
       "7                       331404   557734      229268      496376  \n",
       "8                       637837  1069380      431765      968045  \n",
       "9                       906266  1545482      617234     1365527  \n",
       "10                     1027515  1728024      694923     1535741  \n",
       "11                     1019578  1719464      687481     1506447  \n",
       "12                      975455  1636103      655496     1454045  \n",
       "13                      998102  1660329      661933     1480475  \n",
       "14                     1005176  1680591      669627     1498510  \n",
       "15                      983802  1663398      665615     1484610  \n",
       "16                      939045  1576710      636620     1419478  \n",
       "17                      774376  1299714      522580     1172074  \n",
       "18                      602758  1012209      415244      910874  \n",
       "19                      461525   781531      317679      704735  \n",
       "20                      360797   604585      248619      544716  \n",
       "21                      292132   502826      199096      450315  \n",
       "22                      236538   389399      156437      357348  \n",
       "23                      152938   244812       98082      233164  "
      ]
     },
     "execution_count": 79,
     "metadata": {},
     "output_type": "execute_result"
    }
   ],
   "source": [
    "crosstab_region_time.T"
   ]
  },
  {
   "cell_type": "code",
   "execution_count": 82,
   "id": "6e9d947d",
   "metadata": {},
   "outputs": [],
   "source": [
    "crosstab_region_time_T.to_clipboard()"
   ]
  },
  {
   "cell_type": "code",
   "execution_count": 81,
   "id": "55e8790a",
   "metadata": {},
   "outputs": [],
   "source": [
    "crosstab_region_time_T = crosstab_region_time.T"
   ]
  },
  {
   "cell_type": "code",
   "execution_count": 83,
   "id": "ffc688a4",
   "metadata": {},
   "outputs": [
    {
     "data": {
      "text/plain": [
       "<matplotlib.legend.Legend at 0x7fb36688eaf0>"
      ]
     },
     "execution_count": 83,
     "metadata": {},
     "output_type": "execute_result"
    },
    {
     "data": {
      "image/png": "[encoded data removed]",
      "text/plain": [
       "<Figure size 432x288 with 1 Axes>"
      ]
     },
     "metadata": {
      "needs_background": "light"
     },
     "output_type": "display_data"
    }
   ],
   "source": [
    "region_time_bar = crosstab_region_time_T.plot.bar(stacked= True, color = ['red', 'blue', 'green', 'purple', 'orange', 'teal', 'pink', 'grey'])\n",
    "plt.legend(title='Region')"
   ]
  },
  {
   "cell_type": "code",
   "execution_count": 84,
   "id": "6f8a8aea",
   "metadata": {},
   "outputs": [],
   "source": [
    "region_time_bar.figure.savefig('region_time_bar.png')"
   ]
  },
  {
   "cell_type": "code",
   "execution_count": 86,
   "id": "7484ce8c",
   "metadata": {},
   "outputs": [],
   "source": [
    "#Regional ordering habits-Day\n",
    "\n",
    "crosstab_Region_day = pd.crosstab(cust_ords_new['region'], cust_ords_new['order_dow'], dropna = False)\n",
    "crosstab_Region_day.to_clipboard()"
   ]
  },
  {
   "cell_type": "code",
   "execution_count": 87,
   "id": "73dd03e1",
   "metadata": {},
   "outputs": [],
   "source": [
    "crosstab_region_day_T = crosstab_Region_day.T"
   ]
  },
  {
   "cell_type": "code",
   "execution_count": 88,
   "id": "c2cc7cb8",
   "metadata": {},
   "outputs": [
    {
     "data": {
      "text/plain": [
       "<matplotlib.legend.Legend at 0x7fb23e94fbe0>"
      ]
     },
     "execution_count": 88,
     "metadata": {},
     "output_type": "execute_result"
    },
    {
     "data": {
      "image/png": "[encoded data removed]",
      "text/plain": [
       "<Figure size 432x288 with 1 Axes>"
      ]
     },
     "metadata": {
      "needs_background": "light"
     },
     "output_type": "display_data"
    }
   ],
   "source": [
    "region_day_bar = crosstab_region_day_T.plot.bar(stacked= True, color = ['red', 'blue', 'green', 'purple', 'orange', 'teal', 'pink', 'grey'])\n",
    "plt.legend(title='Region')"
   ]
  },
  {
   "cell_type": "code",
   "execution_count": 89,
   "id": "4ff61172",
   "metadata": {},
   "outputs": [],
   "source": [
    "region_day_bar.figure.savefig('region_day_bar.png')"
   ]
  },
  {
   "cell_type": "code",
   "execution_count": 94,
   "id": "424e1ad1",
   "metadata": {},
   "outputs": [],
   "source": [
    "#Frequency of purchases viewed by region and loyalty\n",
    "\n",
    "region_loyalty_freq = cust_ords_new.groupby(['region', 'loyalty_flag'])['days_since_prior_order'].mean().unstack('loyalty_flag').fillna(0)"
   ]
  },
  {
   "cell_type": "code",
   "execution_count": 96,
   "id": "081f7e22",
   "metadata": {},
   "outputs": [
    {
     "data": {
      "text/plain": [
       "<AxesSubplot:xlabel='region'>"
      ]
     },
     "execution_count": 96,
     "metadata": {},
     "output_type": "execute_result"
    },
    {
     "data": {
      "image/png": "[encoded data removed]",
      "text/plain": [
       "<Figure size 432x288 with 1 Axes>"
      ]
     },
     "metadata": {
      "needs_background": "light"
     },
     "output_type": "display_data"
    }
   ],
   "source": [
    "region_loyalty_freq.plot.bar(color = ['red', 'green', 'blue'])"
   ]
  },
  {
   "cell_type": "code",
   "execution_count": 111,
   "id": "4a92a8d4",
   "metadata": {},
   "outputs": [
    {
     "ename": "AttributeError",
     "evalue": "'DataFrame' object has no attribute 'figure'",
     "output_type": "error",
     "traceback": [
      "\u001b[0;31m---------------------------------------------------------------------------\u001b[0m",
      "\u001b[0;31mAttributeError\u001b[0m                            Traceback (most recent call last)",
      "\u001b[0;32m<ipython-input-111-15408fa65fb1>\u001b[0m in \u001b[0;36m<module>\u001b[0;34m\u001b[0m\n\u001b[0;32m----> 1\u001b[0;31m \u001b[0mregion_loyalty_freq\u001b[0m\u001b[0;34m.\u001b[0m\u001b[0mfigure\u001b[0m\u001b[0;34m.\u001b[0m\u001b[0msavefig\u001b[0m\u001b[0;34m(\u001b[0m\u001b[0;34m'region_loyalty_freq.png'\u001b[0m\u001b[0;34m)\u001b[0m\u001b[0;34m\u001b[0m\u001b[0;34m\u001b[0m\u001b[0m\n\u001b[0m",
      "\u001b[0;32m/opt/anaconda3/lib/python3.8/site-packages/pandas/core/generic.py\u001b[0m in \u001b[0;36m__getattr__\u001b[0;34m(self, name)\u001b[0m\n\u001b[1;32m   5463\u001b[0m             \u001b[0;32mif\u001b[0m \u001b[0mself\u001b[0m\u001b[0;34m.\u001b[0m\u001b[0m_info_axis\u001b[0m\u001b[0;34m.\u001b[0m\u001b[0m_can_hold_identifiers_and_holds_name\u001b[0m\u001b[0;34m(\u001b[0m\u001b[0mname\u001b[0m\u001b[0;34m)\u001b[0m\u001b[0;34m:\u001b[0m\u001b[0;34m\u001b[0m\u001b[0;34m\u001b[0m\u001b[0m\n\u001b[1;32m   5464\u001b[0m                 \u001b[0;32mreturn\u001b[0m \u001b[0mself\u001b[0m\u001b[0;34m[\u001b[0m\u001b[0mname\u001b[0m\u001b[0;34m]\u001b[0m\u001b[0;34m\u001b[0m\u001b[0;34m\u001b[0m\u001b[0m\n\u001b[0;32m-> 5465\u001b[0;31m             \u001b[0;32mreturn\u001b[0m \u001b[0mobject\u001b[0m\u001b[0;34m.\u001b[0m\u001b[0m__getattribute__\u001b[0m\u001b[0;34m(\u001b[0m\u001b[0mself\u001b[0m\u001b[0;34m,\u001b[0m \u001b[0mname\u001b[0m\u001b[0;34m)\u001b[0m\u001b[0;34m\u001b[0m\u001b[0;34m\u001b[0m\u001b[0m\n\u001b[0m\u001b[1;32m   5466\u001b[0m \u001b[0;34m\u001b[0m\u001b[0m\n\u001b[1;32m   5467\u001b[0m     \u001b[0;32mdef\u001b[0m \u001b[0m__setattr__\u001b[0m\u001b[0;34m(\u001b[0m\u001b[0mself\u001b[0m\u001b[0;34m,\u001b[0m \u001b[0mname\u001b[0m\u001b[0;34m:\u001b[0m \u001b[0mstr\u001b[0m\u001b[0;34m,\u001b[0m \u001b[0mvalue\u001b[0m\u001b[0;34m)\u001b[0m \u001b[0;34m->\u001b[0m \u001b[0;32mNone\u001b[0m\u001b[0;34m:\u001b[0m\u001b[0;34m\u001b[0m\u001b[0;34m\u001b[0m\u001b[0m\n",
      "\u001b[0;31mAttributeError\u001b[0m: 'DataFrame' object has no attribute 'figure'"
     ]
    }
   ],
   "source": [
    "region_loyalty_freq.figure.savefig('region_loyalty_freq.png')"
   ]
  },
  {
   "cell_type": "code",
   "execution_count": 104,
   "id": "312eddb8",
   "metadata": {},
   "outputs": [],
   "source": [
    "#create subset for age-dept_id chart\n",
    "#plot age-dept id-tried a couple of graphs: processing time was long and will need to create age groups for bar graph to be legible.\n",
    "cust_ords_1 = small[['Age', 'department_id']]"
   ]
  },
  {
   "cell_type": "code",
   "execution_count": 105,
   "id": "a7dfc566",
   "metadata": {},
   "outputs": [],
   "source": [
    "#Create subset for age-price\n",
    "cust_ords_age_price = small[['Age', 'prices']]"
   ]
  },
  {
   "cell_type": "code",
   "execution_count": 106,
   "id": "469f1f05",
   "metadata": {},
   "outputs": [
    {
     "data": {
      "image/png": "[encoded data removed]",
      "text/plain": [
       "<Figure size 432x288 with 1 Axes>"
      ]
     },
     "metadata": {
      "needs_background": "light"
     },
     "output_type": "display_data"
    }
   ],
   "source": [
    "#Plot Age-price\n",
    "\n",
    "Line_age_Prices = sns.lineplot(data = cust_ords_age_price, x = 'Age', y = 'prices')"
   ]
  },
  {
   "cell_type": "code",
   "execution_count": 110,
   "id": "ba1e145a",
   "metadata": {},
   "outputs": [],
   "source": [
    "Line_age_Prices.figure.savefig('Line_age_Prices.png')"
   ]
  },
  {
   "cell_type": "code",
   "execution_count": 109,
   "id": "c54f6612",
   "metadata": {},
   "outputs": [
    {
     "data": {
      "image/png": "[encoded data removed]",
      "text/plain": [
       "<Figure size 432x288 with 1 Axes>"
      ]
     },
     "metadata": {
      "needs_background": "light"
     },
     "output_type": "display_data"
    }
   ],
   "source": [
    "#Family status affects amount spent\n",
    "\n",
    "bar_1 = cust_ords_new['fam_status'].value_counts('prices').plot.bar(color = ['red','green','blue','purple'])"
   ]
  },
  {
   "cell_type": "code",
   "execution_count": 112,
   "id": "a9977c42",
   "metadata": {},
   "outputs": [],
   "source": [
    "bar_1.figure.savefig('fam_status_prices.png')"
   ]
  },
  {
   "cell_type": "code",
   "execution_count": 113,
   "id": "0225cdea",
   "metadata": {},
   "outputs": [
    {
     "data": {
      "text/html": [
       "<div>\n",
       "<style scoped>\n",
       "    .dataframe tbody tr th:only-of-type {\n",
       "        vertical-align: middle;\n",
       "    }\n",
       "\n",
       "    .dataframe tbody tr th {\n",
       "        vertical-align: top;\n",
       "    }\n",
       "\n",
       "    .dataframe thead th {\n",
       "        text-align: right;\n",
       "    }\n",
       "</style>\n",
       "<table border=\"1\" class=\"dataframe\">\n",
       "  <thead>\n",
       "    <tr style=\"text-align: right;\">\n",
       "      <th>fam_status</th>\n",
       "      <th>divorced/widowed</th>\n",
       "      <th>living with parents and siblings</th>\n",
       "      <th>married</th>\n",
       "      <th>single</th>\n",
       "    </tr>\n",
       "    <tr>\n",
       "      <th>spending_flag</th>\n",
       "      <th></th>\n",
       "      <th></th>\n",
       "      <th></th>\n",
       "      <th></th>\n",
       "    </tr>\n",
       "  </thead>\n",
       "  <tbody>\n",
       "    <tr>\n",
       "      <th>High Spender</th>\n",
       "      <td>165716</td>\n",
       "      <td>86951</td>\n",
       "      <td>1425995</td>\n",
       "      <td>342007</td>\n",
       "    </tr>\n",
       "    <tr>\n",
       "      <th>Low Spender</th>\n",
       "      <td>8625853</td>\n",
       "      <td>4759123</td>\n",
       "      <td>70857715</td>\n",
       "      <td>16620766</td>\n",
       "    </tr>\n",
       "  </tbody>\n",
       "</table>\n",
       "</div>"
      ],
      "text/plain": [
       "fam_status     divorced/widowed  living with parents and siblings   married  \\\n",
       "spending_flag                                                                 \n",
       "High Spender             165716                             86951   1425995   \n",
       "Low Spender             8625853                           4759123  70857715   \n",
       "\n",
       "fam_status       single  \n",
       "spending_flag            \n",
       "High Spender     342007  \n",
       "Low Spender    16620766  "
      ]
     },
     "execution_count": 113,
     "metadata": {},
     "output_type": "execute_result"
    }
   ],
   "source": [
    "#Relate age to family status\n",
    "\n",
    "crosstab_fam_status_spend = pd.crosstab(cust_ords_new['spending_flag'],cust_ords_new['fam_status'], dropna=False )\n",
    "crosstab_fam_status_spend"
   ]
  },
  {
   "cell_type": "code",
   "execution_count": 114,
   "id": "e388c7ed",
   "metadata": {},
   "outputs": [],
   "source": [
    "crosstab_fam_status_spend.to_clipboard()"
   ]
  },
  {
   "cell_type": "code",
   "execution_count": 115,
   "id": "c979329c",
   "metadata": {},
   "outputs": [
    {
     "data": {
      "text/html": [
       "<div>\n",
       "<style scoped>\n",
       "    .dataframe tbody tr th:only-of-type {\n",
       "        vertical-align: middle;\n",
       "    }\n",
       "\n",
       "    .dataframe tbody tr th {\n",
       "        vertical-align: top;\n",
       "    }\n",
       "\n",
       "    .dataframe thead th {\n",
       "        text-align: right;\n",
       "    }\n",
       "</style>\n",
       "<table border=\"1\" class=\"dataframe\">\n",
       "  <thead>\n",
       "    <tr style=\"text-align: right;\">\n",
       "      <th>fam_status</th>\n",
       "      <th>divorced/widowed</th>\n",
       "      <th>living with parents and siblings</th>\n",
       "      <th>married</th>\n",
       "      <th>single</th>\n",
       "    </tr>\n",
       "    <tr>\n",
       "      <th>Age</th>\n",
       "      <th></th>\n",
       "      <th></th>\n",
       "      <th></th>\n",
       "      <th></th>\n",
       "    </tr>\n",
       "  </thead>\n",
       "  <tbody>\n",
       "    <tr>\n",
       "      <th>18</th>\n",
       "      <td>0</td>\n",
       "      <td>1181367</td>\n",
       "      <td>0</td>\n",
       "      <td>416614</td>\n",
       "    </tr>\n",
       "    <tr>\n",
       "      <th>19</th>\n",
       "      <td>0</td>\n",
       "      <td>1277888</td>\n",
       "      <td>0</td>\n",
       "      <td>381674</td>\n",
       "    </tr>\n",
       "    <tr>\n",
       "      <th>20</th>\n",
       "      <td>0</td>\n",
       "      <td>1198960</td>\n",
       "      <td>0</td>\n",
       "      <td>417558</td>\n",
       "    </tr>\n",
       "    <tr>\n",
       "      <th>21</th>\n",
       "      <td>0</td>\n",
       "      <td>1187859</td>\n",
       "      <td>0</td>\n",
       "      <td>384705</td>\n",
       "    </tr>\n",
       "    <tr>\n",
       "      <th>22</th>\n",
       "      <td>0</td>\n",
       "      <td>0</td>\n",
       "      <td>1213100</td>\n",
       "      <td>397461</td>\n",
       "    </tr>\n",
       "    <tr>\n",
       "      <th>...</th>\n",
       "      <td>...</td>\n",
       "      <td>...</td>\n",
       "      <td>...</td>\n",
       "      <td>...</td>\n",
       "    </tr>\n",
       "    <tr>\n",
       "      <th>77</th>\n",
       "      <td>395641</td>\n",
       "      <td>0</td>\n",
       "      <td>1240112</td>\n",
       "      <td>0</td>\n",
       "    </tr>\n",
       "    <tr>\n",
       "      <th>78</th>\n",
       "      <td>394369</td>\n",
       "      <td>0</td>\n",
       "      <td>1228958</td>\n",
       "      <td>0</td>\n",
       "    </tr>\n",
       "    <tr>\n",
       "      <th>79</th>\n",
       "      <td>385033</td>\n",
       "      <td>0</td>\n",
       "      <td>1245790</td>\n",
       "      <td>0</td>\n",
       "    </tr>\n",
       "    <tr>\n",
       "      <th>80</th>\n",
       "      <td>394217</td>\n",
       "      <td>0</td>\n",
       "      <td>1211035</td>\n",
       "      <td>0</td>\n",
       "    </tr>\n",
       "    <tr>\n",
       "      <th>81</th>\n",
       "      <td>465992</td>\n",
       "      <td>0</td>\n",
       "      <td>1206378</td>\n",
       "      <td>0</td>\n",
       "    </tr>\n",
       "  </tbody>\n",
       "</table>\n",
       "<p>64 rows × 4 columns</p>\n",
       "</div>"
      ],
      "text/plain": [
       "fam_status  divorced/widowed  living with parents and siblings  married  \\\n",
       "Age                                                                       \n",
       "18                         0                           1181367        0   \n",
       "19                         0                           1277888        0   \n",
       "20                         0                           1198960        0   \n",
       "21                         0                           1187859        0   \n",
       "22                         0                                 0  1213100   \n",
       "..                       ...                               ...      ...   \n",
       "77                    395641                                 0  1240112   \n",
       "78                    394369                                 0  1228958   \n",
       "79                    385033                                 0  1245790   \n",
       "80                    394217                                 0  1211035   \n",
       "81                    465992                                 0  1206378   \n",
       "\n",
       "fam_status  single  \n",
       "Age                 \n",
       "18          416614  \n",
       "19          381674  \n",
       "20          417558  \n",
       "21          384705  \n",
       "22          397461  \n",
       "..             ...  \n",
       "77               0  \n",
       "78               0  \n",
       "79               0  \n",
       "80               0  \n",
       "81               0  \n",
       "\n",
       "[64 rows x 4 columns]"
      ]
     },
     "execution_count": 115,
     "metadata": {},
     "output_type": "execute_result"
    }
   ],
   "source": [
    "crosstab_age_fam = pd.crosstab(cust_ords_new['fam_status'],cust_ords_new['Age'], dropna=False )\n",
    "crosstab_age_fam.T "
   ]
  },
  {
   "cell_type": "code",
   "execution_count": 116,
   "id": "c68809ca",
   "metadata": {},
   "outputs": [],
   "source": [
    "crosstab_age_fam_t = crosstab_age_fam.T"
   ]
  },
  {
   "cell_type": "code",
   "execution_count": 117,
   "id": "cbd3de35",
   "metadata": {},
   "outputs": [],
   "source": [
    "crosstab_age_fam_t.to_clipboard()"
   ]
  },
  {
   "cell_type": "code",
   "execution_count": 118,
   "id": "453cd19f",
   "metadata": {},
   "outputs": [],
   "source": [
    "#fam status-hour\n",
    "crosstab_fam_hour = pd.crosstab(cust_ords_new['fam_status'], cust_ords_new['order_hour_of_day'], dropna = False)\n",
    "crosstab_fam_hour.to_clipboard()"
   ]
  },
  {
   "cell_type": "code",
   "execution_count": 119,
   "id": "77b53222",
   "metadata": {},
   "outputs": [
    {
     "data": {
      "text/html": [
       "<div>\n",
       "<style scoped>\n",
       "    .dataframe tbody tr th:only-of-type {\n",
       "        vertical-align: middle;\n",
       "    }\n",
       "\n",
       "    .dataframe tbody tr th {\n",
       "        vertical-align: top;\n",
       "    }\n",
       "\n",
       "    .dataframe thead th {\n",
       "        text-align: right;\n",
       "    }\n",
       "</style>\n",
       "<table border=\"1\" class=\"dataframe\">\n",
       "  <thead>\n",
       "    <tr style=\"text-align: right;\">\n",
       "      <th>fam_status</th>\n",
       "      <th>divorced/widowed</th>\n",
       "      <th>living with parents and siblings</th>\n",
       "      <th>married</th>\n",
       "      <th>single</th>\n",
       "    </tr>\n",
       "    <tr>\n",
       "      <th>order_hour_of_day</th>\n",
       "      <th></th>\n",
       "      <th></th>\n",
       "      <th></th>\n",
       "      <th></th>\n",
       "    </tr>\n",
       "  </thead>\n",
       "  <tbody>\n",
       "    <tr>\n",
       "      <th>0</th>\n",
       "      <td>58782</td>\n",
       "      <td>32983</td>\n",
       "      <td>486153</td>\n",
       "      <td>117368</td>\n",
       "    </tr>\n",
       "    <tr>\n",
       "      <th>1</th>\n",
       "      <td>30501</td>\n",
       "      <td>17147</td>\n",
       "      <td>257944</td>\n",
       "      <td>61111</td>\n",
       "    </tr>\n",
       "    <tr>\n",
       "      <th>2</th>\n",
       "      <td>19134</td>\n",
       "      <td>10346</td>\n",
       "      <td>153921</td>\n",
       "      <td>36505</td>\n",
       "    </tr>\n",
       "    <tr>\n",
       "      <th>3</th>\n",
       "      <td>14109</td>\n",
       "      <td>7009</td>\n",
       "      <td>114186</td>\n",
       "      <td>27309</td>\n",
       "    </tr>\n",
       "    <tr>\n",
       "      <th>4</th>\n",
       "      <td>13992</td>\n",
       "      <td>8196</td>\n",
       "      <td>119566</td>\n",
       "      <td>26947</td>\n",
       "    </tr>\n",
       "    <tr>\n",
       "      <th>5</th>\n",
       "      <td>24948</td>\n",
       "      <td>12866</td>\n",
       "      <td>194298</td>\n",
       "      <td>46712</td>\n",
       "    </tr>\n",
       "    <tr>\n",
       "      <th>6</th>\n",
       "      <td>78518</td>\n",
       "      <td>44504</td>\n",
       "      <td>646698</td>\n",
       "      <td>152408</td>\n",
       "    </tr>\n",
       "    <tr>\n",
       "      <th>7</th>\n",
       "      <td>246417</td>\n",
       "      <td>135399</td>\n",
       "      <td>1980026</td>\n",
       "      <td>471262</td>\n",
       "    </tr>\n",
       "    <tr>\n",
       "      <th>8</th>\n",
       "      <td>468697</td>\n",
       "      <td>255819</td>\n",
       "      <td>3833571</td>\n",
       "      <td>901624</td>\n",
       "    </tr>\n",
       "    <tr>\n",
       "      <th>9</th>\n",
       "      <td>663581</td>\n",
       "      <td>364652</td>\n",
       "      <td>5476613</td>\n",
       "      <td>1291619</td>\n",
       "    </tr>\n",
       "    <tr>\n",
       "      <th>10</th>\n",
       "      <td>752972</td>\n",
       "      <td>412727</td>\n",
       "      <td>6162830</td>\n",
       "      <td>1443395</td>\n",
       "    </tr>\n",
       "    <tr>\n",
       "      <th>11</th>\n",
       "      <td>736698</td>\n",
       "      <td>405948</td>\n",
       "      <td>6109034</td>\n",
       "      <td>1436479</td>\n",
       "    </tr>\n",
       "    <tr>\n",
       "      <th>12</th>\n",
       "      <td>707030</td>\n",
       "      <td>394042</td>\n",
       "      <td>5851119</td>\n",
       "      <td>1362604</td>\n",
       "    </tr>\n",
       "    <tr>\n",
       "      <th>13</th>\n",
       "      <td>724986</td>\n",
       "      <td>397438</td>\n",
       "      <td>5940037</td>\n",
       "      <td>1379932</td>\n",
       "    </tr>\n",
       "    <tr>\n",
       "      <th>14</th>\n",
       "      <td>732916</td>\n",
       "      <td>407318</td>\n",
       "      <td>5997429</td>\n",
       "      <td>1398732</td>\n",
       "    </tr>\n",
       "    <tr>\n",
       "      <th>15</th>\n",
       "      <td>723528</td>\n",
       "      <td>403873</td>\n",
       "      <td>5927870</td>\n",
       "      <td>1396873</td>\n",
       "    </tr>\n",
       "    <tr>\n",
       "      <th>16</th>\n",
       "      <td>688497</td>\n",
       "      <td>379187</td>\n",
       "      <td>5647515</td>\n",
       "      <td>1333018</td>\n",
       "    </tr>\n",
       "    <tr>\n",
       "      <th>17</th>\n",
       "      <td>565617</td>\n",
       "      <td>309033</td>\n",
       "      <td>4660200</td>\n",
       "      <td>1091556</td>\n",
       "    </tr>\n",
       "    <tr>\n",
       "      <th>18</th>\n",
       "      <td>438822</td>\n",
       "      <td>245171</td>\n",
       "      <td>3656020</td>\n",
       "      <td>854097</td>\n",
       "    </tr>\n",
       "    <tr>\n",
       "      <th>19</th>\n",
       "      <td>341054</td>\n",
       "      <td>187492</td>\n",
       "      <td>2804928</td>\n",
       "      <td>659164</td>\n",
       "    </tr>\n",
       "    <tr>\n",
       "      <th>20</th>\n",
       "      <td>266675</td>\n",
       "      <td>142635</td>\n",
       "      <td>2177027</td>\n",
       "      <td>511313</td>\n",
       "    </tr>\n",
       "    <tr>\n",
       "      <th>21</th>\n",
       "      <td>215259</td>\n",
       "      <td>116541</td>\n",
       "      <td>1778135</td>\n",
       "      <td>415570</td>\n",
       "    </tr>\n",
       "    <tr>\n",
       "      <th>22</th>\n",
       "      <td>170686</td>\n",
       "      <td>96659</td>\n",
       "      <td>1414242</td>\n",
       "      <td>333034</td>\n",
       "    </tr>\n",
       "    <tr>\n",
       "      <th>23</th>\n",
       "      <td>108150</td>\n",
       "      <td>59089</td>\n",
       "      <td>894348</td>\n",
       "      <td>214141</td>\n",
       "    </tr>\n",
       "  </tbody>\n",
       "</table>\n",
       "</div>"
      ],
      "text/plain": [
       "fam_status         divorced/widowed  living with parents and siblings  \\\n",
       "order_hour_of_day                                                       \n",
       "0                             58782                             32983   \n",
       "1                             30501                             17147   \n",
       "2                             19134                             10346   \n",
       "3                             14109                              7009   \n",
       "4                             13992                              8196   \n",
       "5                             24948                             12866   \n",
       "6                             78518                             44504   \n",
       "7                            246417                            135399   \n",
       "8                            468697                            255819   \n",
       "9                            663581                            364652   \n",
       "10                           752972                            412727   \n",
       "11                           736698                            405948   \n",
       "12                           707030                            394042   \n",
       "13                           724986                            397438   \n",
       "14                           732916                            407318   \n",
       "15                           723528                            403873   \n",
       "16                           688497                            379187   \n",
       "17                           565617                            309033   \n",
       "18                           438822                            245171   \n",
       "19                           341054                            187492   \n",
       "20                           266675                            142635   \n",
       "21                           215259                            116541   \n",
       "22                           170686                             96659   \n",
       "23                           108150                             59089   \n",
       "\n",
       "fam_status         married   single  \n",
       "order_hour_of_day                    \n",
       "0                   486153   117368  \n",
       "1                   257944    61111  \n",
       "2                   153921    36505  \n",
       "3                   114186    27309  \n",
       "4                   119566    26947  \n",
       "5                   194298    46712  \n",
       "6                   646698   152408  \n",
       "7                  1980026   471262  \n",
       "8                  3833571   901624  \n",
       "9                  5476613  1291619  \n",
       "10                 6162830  1443395  \n",
       "11                 6109034  1436479  \n",
       "12                 5851119  1362604  \n",
       "13                 5940037  1379932  \n",
       "14                 5997429  1398732  \n",
       "15                 5927870  1396873  \n",
       "16                 5647515  1333018  \n",
       "17                 4660200  1091556  \n",
       "18                 3656020   854097  \n",
       "19                 2804928   659164  \n",
       "20                 2177027   511313  \n",
       "21                 1778135   415570  \n",
       "22                 1414242   333034  \n",
       "23                  894348   214141  "
      ]
     },
     "execution_count": 119,
     "metadata": {},
     "output_type": "execute_result"
    }
   ],
   "source": [
    "crosstab_fam_hour.T"
   ]
  },
  {
   "cell_type": "code",
   "execution_count": 120,
   "id": "a2f87300",
   "metadata": {},
   "outputs": [],
   "source": [
    "crosstab_fam_hour_t = crosstab_fam_hour.T"
   ]
  },
  {
   "cell_type": "code",
   "execution_count": 121,
   "id": "7477ad83",
   "metadata": {},
   "outputs": [
    {
     "data": {
      "image/png": "[encoded data removed]",
      "text/plain": [
       "<Figure size 432x288 with 1 Axes>"
      ]
     },
     "metadata": {
      "needs_background": "light"
     },
     "output_type": "display_data"
    }
   ],
   "source": [
    "#graph family status with hour of day\n",
    "\n",
    "fam_hour_bar = crosstab_fam_hour_t.plot.bar(stacked= True, color = ['red', 'blue', 'green', 'purple'])"
   ]
  },
  {
   "cell_type": "code",
   "execution_count": 122,
   "id": "a029fed6",
   "metadata": {},
   "outputs": [],
   "source": [
    "#Subgroup dependants, department_id\n",
    "\n",
    "depend_dept_bar = cust_ords_new.groupby(['department_id', 'dependants'])['department_id'].count().unstack('dependants').fillna(0)"
   ]
  },
  {
   "cell_type": "code",
   "execution_count": 123,
   "id": "ae16ffd9",
   "metadata": {},
   "outputs": [
    {
     "data": {
      "text/plain": [
       "<AxesSubplot:xlabel='department_id'>"
      ]
     },
     "execution_count": 123,
     "metadata": {},
     "output_type": "execute_result"
    },
    {
     "data": {
      "image/png": "[encoded data removed]",
      "text/plain": [
       "<Figure size 432x288 with 1 Axes>"
      ]
     },
     "metadata": {
      "needs_background": "light"
     },
     "output_type": "display_data"
    }
   ],
   "source": [
    "#Plot dependants-dept_id\n",
    "\n",
    "depend_dept_bar.plot(kind = 'bar', stacked = True)"
   ]
  },
  {
   "cell_type": "code",
   "execution_count": 124,
   "id": "a347b79d",
   "metadata": {},
   "outputs": [
    {
     "ename": "AttributeError",
     "evalue": "'DataFrame' object has no attribute 'figure'",
     "output_type": "error",
     "traceback": [
      "\u001b[0;31m---------------------------------------------------------------------------\u001b[0m",
      "\u001b[0;31mAttributeError\u001b[0m                            Traceback (most recent call last)",
      "\u001b[0;32m<ipython-input-124-0576588b17ff>\u001b[0m in \u001b[0;36m<module>\u001b[0;34m\u001b[0m\n\u001b[0;32m----> 1\u001b[0;31m \u001b[0mdepend_dept_bar\u001b[0m\u001b[0;34m.\u001b[0m\u001b[0mfigure\u001b[0m\u001b[0;34m.\u001b[0m\u001b[0msavefig\u001b[0m\u001b[0;34m(\u001b[0m\u001b[0;34m'depend_dept_bar.png'\u001b[0m\u001b[0;34m)\u001b[0m\u001b[0;34m\u001b[0m\u001b[0;34m\u001b[0m\u001b[0m\n\u001b[0m",
      "\u001b[0;32m/opt/anaconda3/lib/python3.8/site-packages/pandas/core/generic.py\u001b[0m in \u001b[0;36m__getattr__\u001b[0;34m(self, name)\u001b[0m\n\u001b[1;32m   5463\u001b[0m             \u001b[0;32mif\u001b[0m \u001b[0mself\u001b[0m\u001b[0;34m.\u001b[0m\u001b[0m_info_axis\u001b[0m\u001b[0;34m.\u001b[0m\u001b[0m_can_hold_identifiers_and_holds_name\u001b[0m\u001b[0;34m(\u001b[0m\u001b[0mname\u001b[0m\u001b[0;34m)\u001b[0m\u001b[0;34m:\u001b[0m\u001b[0;34m\u001b[0m\u001b[0;34m\u001b[0m\u001b[0m\n\u001b[1;32m   5464\u001b[0m                 \u001b[0;32mreturn\u001b[0m \u001b[0mself\u001b[0m\u001b[0;34m[\u001b[0m\u001b[0mname\u001b[0m\u001b[0;34m]\u001b[0m\u001b[0;34m\u001b[0m\u001b[0;34m\u001b[0m\u001b[0m\n\u001b[0;32m-> 5465\u001b[0;31m             \u001b[0;32mreturn\u001b[0m \u001b[0mobject\u001b[0m\u001b[0;34m.\u001b[0m\u001b[0m__getattribute__\u001b[0m\u001b[0;34m(\u001b[0m\u001b[0mself\u001b[0m\u001b[0;34m,\u001b[0m \u001b[0mname\u001b[0m\u001b[0;34m)\u001b[0m\u001b[0;34m\u001b[0m\u001b[0;34m\u001b[0m\u001b[0m\n\u001b[0m\u001b[1;32m   5466\u001b[0m \u001b[0;34m\u001b[0m\u001b[0m\n\u001b[1;32m   5467\u001b[0m     \u001b[0;32mdef\u001b[0m \u001b[0m__setattr__\u001b[0m\u001b[0;34m(\u001b[0m\u001b[0mself\u001b[0m\u001b[0;34m,\u001b[0m \u001b[0mname\u001b[0m\u001b[0;34m:\u001b[0m \u001b[0mstr\u001b[0m\u001b[0;34m,\u001b[0m \u001b[0mvalue\u001b[0m\u001b[0;34m)\u001b[0m \u001b[0;34m->\u001b[0m \u001b[0;32mNone\u001b[0m\u001b[0;34m:\u001b[0m\u001b[0;34m\u001b[0m\u001b[0;34m\u001b[0m\u001b[0m\n",
      "\u001b[0;31mAttributeError\u001b[0m: 'DataFrame' object has no attribute 'figure'"
     ]
    }
   ],
   "source": [
    "depend_dept_bar.figure.savefig('depend_dept_bar.png')"
   ]
  },
  {
   "cell_type": "code",
   "execution_count": 125,
   "id": "af5a2292",
   "metadata": {},
   "outputs": [],
   "source": [
    "#Subgroup items purchased based off family status\n",
    "\n",
    "sub_fam_items = cust_ords_new.groupby(['department_id', 'fam_status'])['department_id'].count().unstack('fam_status').fillna(0)"
   ]
  },
  {
   "cell_type": "code",
   "execution_count": 126,
   "id": "d6570dab",
   "metadata": {},
   "outputs": [
    {
     "data": {
      "text/plain": [
       "<AxesSubplot:xlabel='department_id'>"
      ]
     },
     "execution_count": 126,
     "metadata": {},
     "output_type": "execute_result"
    },
    {
     "data": {
      "image/png": "[encoded data removed]",
      "text/plain": [
       "<Figure size 432x288 with 1 Axes>"
      ]
     },
     "metadata": {
      "needs_background": "light"
     },
     "output_type": "display_data"
    }
   ],
   "source": [
    "#Stacked bar chart items from each department based off family status\n",
    "\n",
    "sub_fam_items.plot(kind = 'bar', stacked = True)"
   ]
  },
  {
   "cell_type": "code",
   "execution_count": 127,
   "id": "c92f6500",
   "metadata": {},
   "outputs": [
    {
     "data": {
      "image/png": "[encoded data removed]",
      "text/plain": [
       "<Figure size 432x288 with 1 Axes>"
      ]
     },
     "metadata": {
      "needs_background": "light"
     },
     "output_type": "display_data"
    }
   ],
   "source": [
    "#Rank Department usage\n",
    "\n",
    "bar_dept_use = cust_ords_new['department_id'].value_counts().plot.bar()"
   ]
  },
  {
   "cell_type": "code",
   "execution_count": 128,
   "id": "70f3425e",
   "metadata": {},
   "outputs": [],
   "source": [
    "bar_dept_use.figure.savefig('bar_dept_use.png')"
   ]
  },
  {
   "cell_type": "code",
   "execution_count": 129,
   "id": "3c4ddfe6",
   "metadata": {},
   "outputs": [
    {
     "data": {
      "image/png": "[encoded data removed]",
      "text/plain": [
       "<Figure size 432x288 with 1 Axes>"
      ]
     },
     "metadata": {
      "needs_background": "light"
     },
     "output_type": "display_data"
    }
   ],
   "source": [
    "#Income level-amount ordered\n",
    "\n",
    "bar_income_order = cust_ords_new['income_level'].value_counts().plot.bar()"
   ]
  },
  {
   "cell_type": "code",
   "execution_count": 130,
   "id": "66c13b68",
   "metadata": {},
   "outputs": [
    {
     "data": {
      "text/html": [
       "<div>\n",
       "<style scoped>\n",
       "    .dataframe tbody tr th:only-of-type {\n",
       "        vertical-align: middle;\n",
       "    }\n",
       "\n",
       "    .dataframe tbody tr th {\n",
       "        vertical-align: top;\n",
       "    }\n",
       "\n",
       "    .dataframe thead tr th {\n",
       "        text-align: left;\n",
       "    }\n",
       "\n",
       "    .dataframe thead tr:last-of-type th {\n",
       "        text-align: right;\n",
       "    }\n",
       "</style>\n",
       "<table border=\"1\" class=\"dataframe\">\n",
       "  <thead>\n",
       "    <tr>\n",
       "      <th></th>\n",
       "      <th colspan=\"3\" halign=\"left\">prices</th>\n",
       "    </tr>\n",
       "    <tr>\n",
       "      <th></th>\n",
       "      <th>min</th>\n",
       "      <th>mean</th>\n",
       "      <th>max</th>\n",
       "    </tr>\n",
       "    <tr>\n",
       "      <th>user_id</th>\n",
       "      <th></th>\n",
       "      <th></th>\n",
       "      <th></th>\n",
       "    </tr>\n",
       "  </thead>\n",
       "  <tbody>\n",
       "    <tr>\n",
       "      <th>-32768</th>\n",
       "      <td>1.000000</td>\n",
       "      <td>8.390625</td>\n",
       "      <td>21.296875</td>\n",
       "    </tr>\n",
       "    <tr>\n",
       "      <th>-32767</th>\n",
       "      <td>1.299805</td>\n",
       "      <td>6.804688</td>\n",
       "      <td>14.703125</td>\n",
       "    </tr>\n",
       "    <tr>\n",
       "      <th>-32766</th>\n",
       "      <td>1.000000</td>\n",
       "      <td>7.320312</td>\n",
       "      <td>25.000000</td>\n",
       "    </tr>\n",
       "    <tr>\n",
       "      <th>-32765</th>\n",
       "      <td>1.099609</td>\n",
       "      <td>6.570312</td>\n",
       "      <td>21.093750</td>\n",
       "    </tr>\n",
       "    <tr>\n",
       "      <th>-32764</th>\n",
       "      <td>1.000000</td>\n",
       "      <td>7.433594</td>\n",
       "      <td>19.406250</td>\n",
       "    </tr>\n",
       "    <tr>\n",
       "      <th>...</th>\n",
       "      <td>...</td>\n",
       "      <td>...</td>\n",
       "      <td>...</td>\n",
       "    </tr>\n",
       "    <tr>\n",
       "      <th>32763</th>\n",
       "      <td>1.099609</td>\n",
       "      <td>7.539062</td>\n",
       "      <td>24.000000</td>\n",
       "    </tr>\n",
       "    <tr>\n",
       "      <th>32764</th>\n",
       "      <td>1.200195</td>\n",
       "      <td>7.101562</td>\n",
       "      <td>15.296875</td>\n",
       "    </tr>\n",
       "    <tr>\n",
       "      <th>32765</th>\n",
       "      <td>1.000000</td>\n",
       "      <td>7.843750</td>\n",
       "      <td>23.093750</td>\n",
       "    </tr>\n",
       "    <tr>\n",
       "      <th>32766</th>\n",
       "      <td>1.000000</td>\n",
       "      <td>7.167969</td>\n",
       "      <td>15.203125</td>\n",
       "    </tr>\n",
       "    <tr>\n",
       "      <th>32767</th>\n",
       "      <td>1.200195</td>\n",
       "      <td>7.964844</td>\n",
       "      <td>14.796875</td>\n",
       "    </tr>\n",
       "  </tbody>\n",
       "</table>\n",
       "<p>64178 rows × 3 columns</p>\n",
       "</div>"
      ],
      "text/plain": [
       "           prices                     \n",
       "              min      mean        max\n",
       "user_id                               \n",
       "-32768   1.000000  8.390625  21.296875\n",
       "-32767   1.299805  6.804688  14.703125\n",
       "-32766   1.000000  7.320312  25.000000\n",
       "-32765   1.099609  6.570312  21.093750\n",
       "-32764   1.000000  7.433594  19.406250\n",
       "...           ...       ...        ...\n",
       " 32763   1.099609  7.539062  24.000000\n",
       " 32764   1.200195  7.101562  15.296875\n",
       " 32765   1.000000  7.843750  23.093750\n",
       " 32766   1.000000  7.167969  15.203125\n",
       " 32767   1.200195  7.964844  14.796875\n",
       "\n",
       "[64178 rows x 3 columns]"
      ]
     },
     "execution_count": 130,
     "metadata": {},
     "output_type": "execute_result"
    }
   ],
   "source": [
    "#7a. Aggregate Min, mean, Max on customer profile level for expenditure\n",
    "\n",
    "cust_ords_new.groupby('user_id').agg({'prices' : ['min', 'mean', 'max']})"
   ]
  },
  {
   "cell_type": "code",
   "execution_count": 131,
   "id": "9b73f825",
   "metadata": {},
   "outputs": [
    {
     "data": {
      "text/html": [
       "<div>\n",
       "<style scoped>\n",
       "    .dataframe tbody tr th:only-of-type {\n",
       "        vertical-align: middle;\n",
       "    }\n",
       "\n",
       "    .dataframe tbody tr th {\n",
       "        vertical-align: top;\n",
       "    }\n",
       "\n",
       "    .dataframe thead tr th {\n",
       "        text-align: left;\n",
       "    }\n",
       "\n",
       "    .dataframe thead tr:last-of-type th {\n",
       "        text-align: right;\n",
       "    }\n",
       "</style>\n",
       "<table border=\"1\" class=\"dataframe\">\n",
       "  <thead>\n",
       "    <tr>\n",
       "      <th></th>\n",
       "      <th colspan=\"3\" halign=\"left\">days_since_prior_order</th>\n",
       "    </tr>\n",
       "    <tr>\n",
       "      <th></th>\n",
       "      <th>min</th>\n",
       "      <th>mean</th>\n",
       "      <th>max</th>\n",
       "    </tr>\n",
       "    <tr>\n",
       "      <th>user_id</th>\n",
       "      <th></th>\n",
       "      <th></th>\n",
       "      <th></th>\n",
       "    </tr>\n",
       "  </thead>\n",
       "  <tbody>\n",
       "    <tr>\n",
       "      <th>-32768</th>\n",
       "      <td>2.0</td>\n",
       "      <td>19.343750</td>\n",
       "      <td>30.0</td>\n",
       "    </tr>\n",
       "    <tr>\n",
       "      <th>-32767</th>\n",
       "      <td>0.0</td>\n",
       "      <td>21.343750</td>\n",
       "      <td>30.0</td>\n",
       "    </tr>\n",
       "    <tr>\n",
       "      <th>-32766</th>\n",
       "      <td>1.0</td>\n",
       "      <td>12.304688</td>\n",
       "      <td>30.0</td>\n",
       "    </tr>\n",
       "    <tr>\n",
       "      <th>-32765</th>\n",
       "      <td>4.0</td>\n",
       "      <td>8.757812</td>\n",
       "      <td>30.0</td>\n",
       "    </tr>\n",
       "    <tr>\n",
       "      <th>-32764</th>\n",
       "      <td>0.0</td>\n",
       "      <td>9.101562</td>\n",
       "      <td>30.0</td>\n",
       "    </tr>\n",
       "    <tr>\n",
       "      <th>...</th>\n",
       "      <td>...</td>\n",
       "      <td>...</td>\n",
       "      <td>...</td>\n",
       "    </tr>\n",
       "    <tr>\n",
       "      <th>32763</th>\n",
       "      <td>0.0</td>\n",
       "      <td>15.718750</td>\n",
       "      <td>30.0</td>\n",
       "    </tr>\n",
       "    <tr>\n",
       "      <th>32764</th>\n",
       "      <td>0.0</td>\n",
       "      <td>13.968750</td>\n",
       "      <td>30.0</td>\n",
       "    </tr>\n",
       "    <tr>\n",
       "      <th>32765</th>\n",
       "      <td>0.0</td>\n",
       "      <td>6.851562</td>\n",
       "      <td>30.0</td>\n",
       "    </tr>\n",
       "    <tr>\n",
       "      <th>32766</th>\n",
       "      <td>1.0</td>\n",
       "      <td>7.429688</td>\n",
       "      <td>30.0</td>\n",
       "    </tr>\n",
       "    <tr>\n",
       "      <th>32767</th>\n",
       "      <td>1.0</td>\n",
       "      <td>14.179688</td>\n",
       "      <td>30.0</td>\n",
       "    </tr>\n",
       "  </tbody>\n",
       "</table>\n",
       "<p>64178 rows × 3 columns</p>\n",
       "</div>"
      ],
      "text/plain": [
       "        days_since_prior_order                 \n",
       "                           min       mean   max\n",
       "user_id                                        \n",
       "-32768                     2.0  19.343750  30.0\n",
       "-32767                     0.0  21.343750  30.0\n",
       "-32766                     1.0  12.304688  30.0\n",
       "-32765                     4.0   8.757812  30.0\n",
       "-32764                     0.0   9.101562  30.0\n",
       "...                        ...        ...   ...\n",
       " 32763                     0.0  15.718750  30.0\n",
       " 32764                     0.0  13.968750  30.0\n",
       " 32765                     0.0   6.851562  30.0\n",
       " 32766                     1.0   7.429688  30.0\n",
       " 32767                     1.0  14.179688  30.0\n",
       "\n",
       "[64178 rows x 3 columns]"
      ]
     },
     "execution_count": 131,
     "metadata": {},
     "output_type": "execute_result"
    }
   ],
   "source": [
    "# Aggregate Min, mean, Max on customer profile level for usage frequency\n",
    "\n",
    "cust_ords_new.groupby('user_id').agg({'days_since_prior_order' : ['min', 'mean', 'max']})\n"
   ]
  },
  {
   "cell_type": "code",
   "execution_count": 132,
   "id": "d1008149",
   "metadata": {},
   "outputs": [],
   "source": [
    "#8a. Regional comparison of customer profiles. \n",
    "\n",
    "Sbar_region = cust_ords_new.groupby(['department_id', 'region'])['department_id'].count().unstack('region').fillna(0)"
   ]
  },
  {
   "cell_type": "code",
   "execution_count": 133,
   "id": "ea773d27",
   "metadata": {},
   "outputs": [
    {
     "data": {
      "text/plain": [
       "<AxesSubplot:xlabel='department_id'>"
      ]
     },
     "execution_count": 133,
     "metadata": {},
     "output_type": "execute_result"
    },
    {
     "data": {
      "image/png": "[encoded data removed]",
      "text/plain": [
       "<Figure size 432x288 with 1 Axes>"
      ]
     },
     "metadata": {
      "needs_background": "light"
     },
     "output_type": "display_data"
    }
   ],
   "source": [
    "Sbar_region.plot(kind = 'bar', stacked = True)"
   ]
  },
  {
   "cell_type": "code",
   "execution_count": 135,
   "id": "542604c6",
   "metadata": {},
   "outputs": [
    {
     "data": {
      "image/png": "[encoded data removed]",
      "text/plain": [
       "<Figure size 432x288 with 1 Axes>"
      ]
     },
     "metadata": {
      "needs_background": "light"
     },
     "output_type": "display_data"
    }
   ],
   "source": [
    "#Number items purchased by region\n",
    "\n",
    "bar_region_items = cust_ords_new['region'].value_counts().plot.bar(color = ['red', 'blue', 'green', 'purple', 'orange', 'teal', 'pink', 'grey'])"
   ]
  },
  {
   "cell_type": "code",
   "execution_count": 136,
   "id": "7e899ad9",
   "metadata": {},
   "outputs": [],
   "source": [
    "bar_region_items.figure.savefig('bar_region_items.png')"
   ]
  },
  {
   "cell_type": "code",
   "execution_count": 138,
   "id": "38fdb49f",
   "metadata": {},
   "outputs": [
    {
     "data": {
      "image/png": "[encoded data removed]",
      "text/plain": [
       "<Figure size 432x288 with 1 Axes>"
      ]
     },
     "metadata": {
      "needs_background": "light"
     },
     "output_type": "display_data"
    }
   ],
   "source": [
    "#Amount each region spends\n",
    "\n",
    "bar_region_spend = cust_ords_new['region'].value_counts('prices').plot.bar(color = ['red', 'blue', 'green', 'purple', 'orange', 'teal', 'pink', 'grey'])"
   ]
  },
  {
   "cell_type": "code",
   "execution_count": 139,
   "id": "49ab3b97",
   "metadata": {},
   "outputs": [],
   "source": [
    "bar_region_spend.figure.savefig('bar_region_spend.png')"
   ]
  },
  {
   "cell_type": "code",
   "execution_count": 141,
   "id": "fac7545c",
   "metadata": {},
   "outputs": [],
   "source": [
    "#Customer loyalty per region\n",
    "\n",
    "Sbar_loyal_region = cust_ords_new.groupby(['region', 'loyalty_flag'])['days_since_prior_order'].mean().unstack('loyalty_flag').fillna(0)"
   ]
  },
  {
   "cell_type": "code",
   "execution_count": 142,
   "id": "91073027",
   "metadata": {},
   "outputs": [
    {
     "data": {
      "text/plain": [
       "<AxesSubplot:xlabel='region'>"
      ]
     },
     "execution_count": 142,
     "metadata": {},
     "output_type": "execute_result"
    },
    {
     "data": {
      "image/png": "[encoded data removed]",
      "text/plain": [
       "<Figure size 432x288 with 1 Axes>"
      ]
     },
     "metadata": {
      "needs_background": "light"
     },
     "output_type": "display_data"
    }
   ],
   "source": [
    "Sbar_loyal_region.plot(kind = 'bar', stacked = False)"
   ]
  },
  {
   "cell_type": "code",
   "execution_count": 144,
   "id": "853388b8",
   "metadata": {},
   "outputs": [
    {
     "data": {
      "image/png": "[encoded data removed]",
      "text/plain": [
       "<Figure size 432x288 with 1 Axes>"
      ]
     },
     "metadata": {
      "needs_background": "light"
     },
     "output_type": "display_data"
    }
   ],
   "source": [
    "#Age histogram\n",
    "\n",
    "age_hist = cust_ords_new['Age'].plot.hist(bins = 10, color = 'yellow', edgecolor = 'green')\n"
   ]
  },
  {
   "cell_type": "code",
   "execution_count": 145,
   "id": "c0e0de0e",
   "metadata": {},
   "outputs": [],
   "source": [
    "age_hist.figure.savefig('age_hist.png')"
   ]
  },
  {
   "cell_type": "code",
   "execution_count": 146,
   "id": "e298f81b",
   "metadata": {},
   "outputs": [],
   "source": [
    "# Aggregate Min, mean, Max on customer age based on price\n",
    "\n",
    "Age_price_table = cust_ords_new.groupby('Age').agg({'prices' : ['min', 'mean', 'max']})\n",
    "Age_price_table.to_clipboard()"
   ]
  },
  {
   "cell_type": "code",
   "execution_count": 147,
   "id": "5efdc5d0",
   "metadata": {},
   "outputs": [],
   "source": [
    "# Aggregate Min, mean, Max on customer age based on frequency\n",
    "\n",
    "Age_freq_table = cust_ords_new.groupby('Age').agg({'frequency' : ['min', 'mean', 'max']})\n",
    "Age_freq_table.to_clipboard()"
   ]
  },
  {
   "cell_type": "code",
   "execution_count": 148,
   "id": "22b6b86e",
   "metadata": {},
   "outputs": [],
   "source": [
    "# Aggregate Min, mean, Max on dept id based on age\n",
    "\n",
    "Age_freq_table = cust_ords_new.groupby('department_id').agg({'Age' : ['min', 'mean', 'max']})\n",
    "Age_freq_table.to_clipboard()"
   ]
  },
  {
   "cell_type": "code",
   "execution_count": 150,
   "id": "28cbb339",
   "metadata": {},
   "outputs": [
    {
     "data": {
      "text/html": [
       "<div>\n",
       "<style scoped>\n",
       "    .dataframe tbody tr th:only-of-type {\n",
       "        vertical-align: middle;\n",
       "    }\n",
       "\n",
       "    .dataframe tbody tr th {\n",
       "        vertical-align: top;\n",
       "    }\n",
       "\n",
       "    .dataframe thead th {\n",
       "        text-align: right;\n",
       "    }\n",
       "</style>\n",
       "<table border=\"1\" class=\"dataframe\">\n",
       "  <thead>\n",
       "    <tr style=\"text-align: right;\">\n",
       "      <th></th>\n",
       "      <th>user_id</th>\n",
       "      <th>First Name</th>\n",
       "      <th>Last Name</th>\n",
       "      <th>Gender</th>\n",
       "      <th>State</th>\n",
       "      <th>Age</th>\n",
       "      <th>dependants</th>\n",
       "      <th>fam_status</th>\n",
       "      <th>income</th>\n",
       "      <th>product_id</th>\n",
       "      <th>product_name</th>\n",
       "      <th>aisle_id</th>\n",
       "      <th>department_id</th>\n",
       "      <th>prices</th>\n",
       "      <th>order_id</th>\n",
       "      <th>order_number</th>\n",
       "      <th>order_dow</th>\n",
       "      <th>order_hour_of_day</th>\n",
       "      <th>days_since_prior_order</th>\n",
       "      <th>add_to_cart_order</th>\n",
       "      <th>busiest day</th>\n",
       "      <th>busiest two-day</th>\n",
       "      <th>busiest_period_of_day</th>\n",
       "      <th>spending</th>\n",
       "      <th>spending_flag</th>\n",
       "      <th>frequency</th>\n",
       "      <th>frequency_flag</th>\n",
       "      <th>max_order</th>\n",
       "      <th>loyalty_flag</th>\n",
       "      <th>region</th>\n",
       "      <th>activity</th>\n",
       "      <th>income_level</th>\n",
       "    </tr>\n",
       "  </thead>\n",
       "  <tbody>\n",
       "    <tr>\n",
       "      <th>0</th>\n",
       "      <td>26711</td>\n",
       "      <td>Deborah</td>\n",
       "      <td>Esquivel</td>\n",
       "      <td>Female</td>\n",
       "      <td>MO</td>\n",
       "      <td>48</td>\n",
       "      <td>3</td>\n",
       "      <td>married</td>\n",
       "      <td>NaN</td>\n",
       "      <td>10</td>\n",
       "      <td>Sparkling Orange Juice &amp; Prickly Pear Beverage</td>\n",
       "      <td>115</td>\n",
       "      <td>7</td>\n",
       "      <td>8.398438</td>\n",
       "      <td>16402</td>\n",
       "      <td>6</td>\n",
       "      <td>6</td>\n",
       "      <td>4</td>\n",
       "      <td>29.0</td>\n",
       "      <td>7</td>\n",
       "      <td>Regularly busy</td>\n",
       "      <td>Regularly busy</td>\n",
       "      <td>Fewest Orders</td>\n",
       "      <td>8.242188</td>\n",
       "      <td>Low Spender</td>\n",
       "      <td>17.0</td>\n",
       "      <td>Regular customer</td>\n",
       "      <td>21</td>\n",
       "      <td>Regular customer</td>\n",
       "      <td>NW_Central</td>\n",
       "      <td>high</td>\n",
       "      <td>NaN</td>\n",
       "    </tr>\n",
       "    <tr>\n",
       "      <th>1</th>\n",
       "      <td>26711</td>\n",
       "      <td>Deborah</td>\n",
       "      <td>Esquivel</td>\n",
       "      <td>Female</td>\n",
       "      <td>MO</td>\n",
       "      <td>48</td>\n",
       "      <td>3</td>\n",
       "      <td>married</td>\n",
       "      <td>NaN</td>\n",
       "      <td>10</td>\n",
       "      <td>Sparkling Orange Juice &amp; Prickly Pear Beverage</td>\n",
       "      <td>115</td>\n",
       "      <td>7</td>\n",
       "      <td>8.398438</td>\n",
       "      <td>-1460</td>\n",
       "      <td>7</td>\n",
       "      <td>5</td>\n",
       "      <td>18</td>\n",
       "      <td>13.0</td>\n",
       "      <td>1</td>\n",
       "      <td>Regularly busy</td>\n",
       "      <td>Regularly busy</td>\n",
       "      <td>Average Orders</td>\n",
       "      <td>8.242188</td>\n",
       "      <td>Low Spender</td>\n",
       "      <td>17.0</td>\n",
       "      <td>Regular customer</td>\n",
       "      <td>21</td>\n",
       "      <td>Regular customer</td>\n",
       "      <td>NW_Central</td>\n",
       "      <td>high</td>\n",
       "      <td>NaN</td>\n",
       "    </tr>\n",
       "    <tr>\n",
       "      <th>2</th>\n",
       "      <td>26711</td>\n",
       "      <td>Deborah</td>\n",
       "      <td>Esquivel</td>\n",
       "      <td>Female</td>\n",
       "      <td>MO</td>\n",
       "      <td>48</td>\n",
       "      <td>3</td>\n",
       "      <td>married</td>\n",
       "      <td>NaN</td>\n",
       "      <td>10</td>\n",
       "      <td>Sparkling Orange Juice &amp; Prickly Pear Beverage</td>\n",
       "      <td>115</td>\n",
       "      <td>7</td>\n",
       "      <td>8.398438</td>\n",
       "      <td>-27026</td>\n",
       "      <td>10</td>\n",
       "      <td>3</td>\n",
       "      <td>19</td>\n",
       "      <td>30.0</td>\n",
       "      <td>3</td>\n",
       "      <td>Regularly busy</td>\n",
       "      <td>Least busy days</td>\n",
       "      <td>Average Orders</td>\n",
       "      <td>8.242188</td>\n",
       "      <td>Low Spender</td>\n",
       "      <td>17.0</td>\n",
       "      <td>Regular customer</td>\n",
       "      <td>21</td>\n",
       "      <td>Regular customer</td>\n",
       "      <td>NW_Central</td>\n",
       "      <td>high</td>\n",
       "      <td>NaN</td>\n",
       "    </tr>\n",
       "    <tr>\n",
       "      <th>3</th>\n",
       "      <td>26711</td>\n",
       "      <td>Deborah</td>\n",
       "      <td>Esquivel</td>\n",
       "      <td>Female</td>\n",
       "      <td>MO</td>\n",
       "      <td>48</td>\n",
       "      <td>3</td>\n",
       "      <td>married</td>\n",
       "      <td>NaN</td>\n",
       "      <td>144</td>\n",
       "      <td>Coarse Grind Garlic Powder &amp; Parsley Blend</td>\n",
       "      <td>104</td>\n",
       "      <td>13</td>\n",
       "      <td>2.099609</td>\n",
       "      <td>25125</td>\n",
       "      <td>20</td>\n",
       "      <td>6</td>\n",
       "      <td>11</td>\n",
       "      <td>7.0</td>\n",
       "      <td>3</td>\n",
       "      <td>Regularly busy</td>\n",
       "      <td>Regularly busy</td>\n",
       "      <td>Most Orders</td>\n",
       "      <td>7.656250</td>\n",
       "      <td>Low Spender</td>\n",
       "      <td>7.0</td>\n",
       "      <td>Frequent customer</td>\n",
       "      <td>21</td>\n",
       "      <td>Regular customer</td>\n",
       "      <td>NW_Central</td>\n",
       "      <td>high</td>\n",
       "      <td>NaN</td>\n",
       "    </tr>\n",
       "    <tr>\n",
       "      <th>4</th>\n",
       "      <td>26711</td>\n",
       "      <td>Deborah</td>\n",
       "      <td>Esquivel</td>\n",
       "      <td>Female</td>\n",
       "      <td>MO</td>\n",
       "      <td>48</td>\n",
       "      <td>3</td>\n",
       "      <td>married</td>\n",
       "      <td>NaN</td>\n",
       "      <td>194</td>\n",
       "      <td>Lamb Rib Chops</td>\n",
       "      <td>122</td>\n",
       "      <td>12</td>\n",
       "      <td>18.906250</td>\n",
       "      <td>21587</td>\n",
       "      <td>11</td>\n",
       "      <td>6</td>\n",
       "      <td>11</td>\n",
       "      <td>5.0</td>\n",
       "      <td>15</td>\n",
       "      <td>Regularly busy</td>\n",
       "      <td>Regularly busy</td>\n",
       "      <td>Most Orders</td>\n",
       "      <td>7.656250</td>\n",
       "      <td>Low Spender</td>\n",
       "      <td>7.0</td>\n",
       "      <td>Frequent customer</td>\n",
       "      <td>21</td>\n",
       "      <td>Regular customer</td>\n",
       "      <td>NW_Central</td>\n",
       "      <td>high</td>\n",
       "      <td>NaN</td>\n",
       "    </tr>\n",
       "  </tbody>\n",
       "</table>\n",
       "</div>"
      ],
      "text/plain": [
       "   user_id First Name Last Name  Gender State  Age  dependants fam_status  \\\n",
       "0    26711    Deborah  Esquivel  Female    MO   48           3    married   \n",
       "1    26711    Deborah  Esquivel  Female    MO   48           3    married   \n",
       "2    26711    Deborah  Esquivel  Female    MO   48           3    married   \n",
       "3    26711    Deborah  Esquivel  Female    MO   48           3    married   \n",
       "4    26711    Deborah  Esquivel  Female    MO   48           3    married   \n",
       "\n",
       "   income  product_id                                    product_name  \\\n",
       "0     NaN          10  Sparkling Orange Juice & Prickly Pear Beverage   \n",
       "1     NaN          10  Sparkling Orange Juice & Prickly Pear Beverage   \n",
       "2     NaN          10  Sparkling Orange Juice & Prickly Pear Beverage   \n",
       "3     NaN         144      Coarse Grind Garlic Powder & Parsley Blend   \n",
       "4     NaN         194                                  Lamb Rib Chops   \n",
       "\n",
       "   aisle_id  department_id     prices  order_id  order_number  order_dow  \\\n",
       "0       115              7   8.398438     16402             6          6   \n",
       "1       115              7   8.398438     -1460             7          5   \n",
       "2       115              7   8.398438    -27026            10          3   \n",
       "3       104             13   2.099609     25125            20          6   \n",
       "4       122             12  18.906250     21587            11          6   \n",
       "\n",
       "   order_hour_of_day  days_since_prior_order  add_to_cart_order  \\\n",
       "0                  4                    29.0                  7   \n",
       "1                 18                    13.0                  1   \n",
       "2                 19                    30.0                  3   \n",
       "3                 11                     7.0                  3   \n",
       "4                 11                     5.0                 15   \n",
       "\n",
       "      busiest day  busiest two-day busiest_period_of_day  spending  \\\n",
       "0  Regularly busy   Regularly busy         Fewest Orders  8.242188   \n",
       "1  Regularly busy   Regularly busy        Average Orders  8.242188   \n",
       "2  Regularly busy  Least busy days        Average Orders  8.242188   \n",
       "3  Regularly busy   Regularly busy           Most Orders  7.656250   \n",
       "4  Regularly busy   Regularly busy           Most Orders  7.656250   \n",
       "\n",
       "  spending_flag  frequency     frequency_flag  max_order      loyalty_flag  \\\n",
       "0   Low Spender       17.0   Regular customer         21  Regular customer   \n",
       "1   Low Spender       17.0   Regular customer         21  Regular customer   \n",
       "2   Low Spender       17.0   Regular customer         21  Regular customer   \n",
       "3   Low Spender        7.0  Frequent customer         21  Regular customer   \n",
       "4   Low Spender        7.0  Frequent customer         21  Regular customer   \n",
       "\n",
       "       region activity income_level  \n",
       "0  NW_Central     high          NaN  \n",
       "1  NW_Central     high          NaN  \n",
       "2  NW_Central     high          NaN  \n",
       "3  NW_Central     high          NaN  \n",
       "4  NW_Central     high          NaN  "
      ]
     },
     "execution_count": 150,
     "metadata": {},
     "output_type": "execute_result"
    }
   ],
   "source": [
    "cust_ords_new.head()"
   ]
  },
  {
   "cell_type": "code",
   "execution_count": 153,
   "id": "487ca9fe",
   "metadata": {},
   "outputs": [
    {
     "data": {
      "text/html": [
       "<div>\n",
       "<style scoped>\n",
       "    .dataframe tbody tr th:only-of-type {\n",
       "        vertical-align: middle;\n",
       "    }\n",
       "\n",
       "    .dataframe tbody tr th {\n",
       "        vertical-align: top;\n",
       "    }\n",
       "\n",
       "    .dataframe thead th {\n",
       "        text-align: right;\n",
       "    }\n",
       "</style>\n",
       "<table border=\"1\" class=\"dataframe\">\n",
       "  <thead>\n",
       "    <tr style=\"text-align: right;\">\n",
       "      <th>spending_flag</th>\n",
       "      <th>High Spender</th>\n",
       "      <th>Low Spender</th>\n",
       "    </tr>\n",
       "    <tr>\n",
       "      <th>frequency_flag</th>\n",
       "      <th></th>\n",
       "      <th></th>\n",
       "    </tr>\n",
       "  </thead>\n",
       "  <tbody>\n",
       "    <tr>\n",
       "      <th>Frequent customer</th>\n",
       "      <td>1360344</td>\n",
       "      <td>67291386</td>\n",
       "    </tr>\n",
       "    <tr>\n",
       "      <th>Non-frequent customer</th>\n",
       "      <td>209466</td>\n",
       "      <td>11139988</td>\n",
       "    </tr>\n",
       "    <tr>\n",
       "      <th>Regular customer</th>\n",
       "      <td>450859</td>\n",
       "      <td>22432083</td>\n",
       "    </tr>\n",
       "  </tbody>\n",
       "</table>\n",
       "</div>"
      ],
      "text/plain": [
       "spending_flag          High Spender  Low Spender\n",
       "frequency_flag                                  \n",
       "Frequent customer           1360344     67291386\n",
       "Non-frequent customer        209466     11139988\n",
       "Regular customer             450859     22432083"
      ]
     },
     "execution_count": 153,
     "metadata": {},
     "output_type": "execute_result"
    }
   ],
   "source": [
    "#spending & Frequency flag\n",
    "crosstab_spend_freq= pd.crosstab(cust_ords_new['frequency_flag'], cust_ords_new['spending_flag'], dropna = False)\n",
    "crosstab_spend_freq"
   ]
  },
  {
   "cell_type": "code",
   "execution_count": 155,
   "id": "ca5755ed",
   "metadata": {},
   "outputs": [
    {
     "data": {
      "text/plain": [
       "<matplotlib.legend.Legend at 0x7fb07f9aa1c0>"
      ]
     },
     "execution_count": 155,
     "metadata": {},
     "output_type": "execute_result"
    },
    {
     "data": {
      "image/png": "[encoded data removed]",
      "text/plain": [
       "<Figure size 432x288 with 1 Axes>"
      ]
     },
     "metadata": {
      "needs_background": "light"
     },
     "output_type": "display_data"
    }
   ],
   "source": [
    "spend_freq_bar = crosstab_spend_freq.plot.bar(stacked = True, color = ['red', 'blue'])\n",
    "plt.legend(title='Spending Frequency')"
   ]
  },
  {
   "cell_type": "code",
   "execution_count": 157,
   "id": "544edd21",
   "metadata": {},
   "outputs": [],
   "source": [
    "spend_freq_bar.figure.savefig('spend_freq_bar.png')"
   ]
  },
  {
   "cell_type": "code",
   "execution_count": 159,
   "id": "58180c3e",
   "metadata": {},
   "outputs": [
    {
     "data": {
      "text/html": [
       "<div>\n",
       "<style scoped>\n",
       "    .dataframe tbody tr th:only-of-type {\n",
       "        vertical-align: middle;\n",
       "    }\n",
       "\n",
       "    .dataframe tbody tr th {\n",
       "        vertical-align: top;\n",
       "    }\n",
       "\n",
       "    .dataframe thead th {\n",
       "        text-align: right;\n",
       "    }\n",
       "</style>\n",
       "<table border=\"1\" class=\"dataframe\">\n",
       "  <thead>\n",
       "    <tr style=\"text-align: right;\">\n",
       "      <th>income_level</th>\n",
       "      <th>low_income</th>\n",
       "    </tr>\n",
       "    <tr>\n",
       "      <th>frequency_flag</th>\n",
       "      <th></th>\n",
       "    </tr>\n",
       "  </thead>\n",
       "  <tbody>\n",
       "    <tr>\n",
       "      <th>Frequent customer</th>\n",
       "      <td>32882429</td>\n",
       "    </tr>\n",
       "    <tr>\n",
       "      <th>Non-frequent customer</th>\n",
       "      <td>5358595</td>\n",
       "    </tr>\n",
       "    <tr>\n",
       "      <th>Regular customer</th>\n",
       "      <td>10977379</td>\n",
       "    </tr>\n",
       "  </tbody>\n",
       "</table>\n",
       "</div>"
      ],
      "text/plain": [
       "income_level           low_income\n",
       "frequency_flag                   \n",
       "Frequent customer        32882429\n",
       "Non-frequent customer     5358595\n",
       "Regular customer         10977379"
      ]
     },
     "execution_count": 159,
     "metadata": {},
     "output_type": "execute_result"
    }
   ],
   "source": [
    "#income level & Frequency flag\n",
    "crosstab_income_freq= pd.crosstab(cust_ords_new['frequency_flag'], cust_ords_new['income_level'], dropna = False)\n",
    "crosstab_income_freq"
   ]
  },
  {
   "cell_type": "code",
   "execution_count": 160,
   "id": "d332295f",
   "metadata": {},
   "outputs": [],
   "source": [
    "crosstab_income_freq.to_clipboard()"
   ]
  },
  {
   "cell_type": "code",
   "execution_count": 162,
   "id": "9fa28545",
   "metadata": {},
   "outputs": [
    {
     "data": {
      "text/plain": [
       "<matplotlib.legend.Legend at 0x7fb4e14ccaf0>"
      ]
     },
     "execution_count": 162,
     "metadata": {},
     "output_type": "execute_result"
    },
    {
     "data": {
      "image/png": "[encoded data removed]",
      "text/plain": [
       "<Figure size 432x288 with 1 Axes>"
      ]
     },
     "metadata": {
      "needs_background": "light"
     },
     "output_type": "display_data"
    }
   ],
   "source": [
    "#create graph\n",
    "\n",
    "income_freq_bar = crosstab_income_freq.plot.bar(color = ['red', 'blue', 'green'])\n",
    "plt.legend(title='Income Frequency')"
   ]
  },
  {
   "cell_type": "code",
   "execution_count": 163,
   "id": "df3968c7",
   "metadata": {},
   "outputs": [],
   "source": [
    "income_freq_bar.figure.savefig('income_freq_bar.png')"
   ]
  },
  {
   "cell_type": "code",
   "execution_count": null,
   "id": "21be79d2",
   "metadata": {},
   "outputs": [],
   "source": []
  }
 ],
 "metadata": {
  "kernelspec": {
   "display_name": "Python 3",
   "language": "python",
   "name": "python3"
  },
  "language_info": {
   "codemirror_mode": {
    "name": "ipython",
    "version": 3
   },
   "file_extension": ".py",
   "mimetype": "text/x-python",
   "name": "python",
   "nbconvert_exporter": "python",
   "pygments_lexer": "ipython3",
   "version": "3.8.8"
  }
 },
 "nbformat": 4,
 "nbformat_minor": 5
}

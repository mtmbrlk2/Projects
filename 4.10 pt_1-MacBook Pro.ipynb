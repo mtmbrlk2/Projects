{
 "cells": [
  {
   "cell_type": "code",
   "execution_count": 1,
   "id": "6f778d32",
   "metadata": {},
   "outputs": [],
   "source": [
    "import pandas as pd\n",
    "import numpy as np\n",
    "import os\n",
    "import matplotlib.pyplot as plt\n",
    "import seaborn as sns\n",
    "import scipy"
   ]
  },
  {
   "cell_type": "code",
   "execution_count": 3,
   "id": "09750e63",
   "metadata": {},
   "outputs": [],
   "source": [
    "cust_ords_merge = pd.read_pickle(r'/Users/matth/OneDrive/Documents/Matthew/Coding Class/Career_Foundry Data Science Course/2. Data Immersion/Lesson 4/Python Folder for Lesson 4/02 Data/Prepared Data/4.9_cust_ords_merge.pkl')"
   ]
  },
  {
   "cell_type": "code",
   "execution_count": 4,
   "id": "d6ce7350",
   "metadata": {},
   "outputs": [],
   "source": [
    "path = r'/Users/matth/OneDrive/Documents/Matthew/Coding Class/Career_Foundry Data Science Course/2. Data Immersion/Lesson 4'"
   ]
  },
  {
   "cell_type": "code",
   "execution_count": null,
   "id": "1182a931",
   "metadata": {},
   "outputs": [],
   "source": [
    "#Questions for 4.10 pt 1"
   ]
  },
  {
   "cell_type": "code",
   "execution_count": null,
   "id": "e647450e",
   "metadata": {},
   "outputs": [],
   "source": [
    "#2 Consider any security implications that might exist for this new data. You’ll need to address any PII \n",
    "#data in the data before continuing your analysis."
   ]
  },
  {
   "cell_type": "code",
   "execution_count": 5,
   "id": "4d2bb48e",
   "metadata": {},
   "outputs": [
    {
     "name": "stdout",
     "output_type": "stream",
     "text": [
      "user_id\n",
      "First Name\n",
      "Last Name\n",
      "Gender\n",
      "State\n",
      "Age\n",
      "dependants\n",
      "fam_status\n",
      "income\n",
      "product_id\n",
      "product_name\n",
      "aisle_id\n",
      "department_id\n",
      "prices\n",
      "order_id\n",
      "order_number\n",
      "order_dow\n",
      "order_hour_of_day\n",
      "days_since_prior_order\n",
      "add_to_cart_order\n",
      "busiest day\n",
      "busiest two-day\n",
      "busiest_period_of_day\n",
      "spending\n",
      "spending_flag\n",
      "frequency\n",
      "frequency_flag\n",
      "max_order\n",
      "loyalty_flag\n"
     ]
    }
   ],
   "source": [
    "for col in cust_ords_merge.columns:\n",
    "    print(col)"
   ]
  },
  {
   "cell_type": "code",
   "execution_count": null,
   "id": "f863b60c",
   "metadata": {},
   "outputs": [],
   "source": [
    "#2a These data do contain specific identifying information, namely first and last name, age, state of residence, dependants, income and family status.\n",
    "#I would make sure that the supervisor was aware of this and, if it were an issue, offer to use the .drop() command for elements\n",
    "#such as first & last name, gender, age, dependants, and family status. Income is something I would be willin to remove, however,\n",
    "#when its tied to a randomized user_id, it can still be useful for analysis like in the previous exercise. I would keep an original\n",
    "#dataset with all the information for my own analysis and something to return to if I had issues with later commands put in."
   ]
  },
  {
   "cell_type": "code",
   "execution_count": 6,
   "id": "cd8641fa",
   "metadata": {},
   "outputs": [],
   "source": [
    "#3 The Instacart officers are interested in comparing customer behavior in different geographic areas. \n",
    "#Create a regional segmentation of the data. You’ll need to create a “Region” column based on the “State” column \n",
    "#from your customers data set.\n",
    "\n",
    "#3.1:\n",
    "\n",
    "region = []\n",
    "\n",
    "for state in cust_ords_merge['State']: \n",
    "  if (state == 'ME' or 'NH' or 'VT' or 'MA' or 'RI' or 'CT'):\n",
    "    region.append(\"New_England\") \n",
    "  elif (state == 'NY' or 'PA' or 'NJ'):\n",
    "    region.append(\"Mid_Atlantic\")\n",
    "  elif (state == 'WI' or 'MI' or 'IL' or 'IN' or 'OH'):\n",
    "    region.append(\"NE_Central\")\n",
    "  elif (state == 'ND' or 'SD' or 'NE' or 'KS' or 'MN' or 'IA' or 'MO'):\n",
    "    region.append(\"NW_Central\")\n",
    "  elif (state == 'DE' or 'MD' or 'DC' or 'VA' or 'WV' or 'NC' or 'SC' or 'GA' or 'FL'):\n",
    "    region.append(\"S_Atlantic\")\n",
    "  elif (state == 'KY' or 'TN' or 'MS' or 'AL'):\n",
    "    region.append(\"SE_Central\")\n",
    "  elif (state == 'ID' or 'MT' or 'WY' or 'NV' or 'CO' or 'AZ' or 'NM'):\n",
    "    region.append(\"Mountain\")\n",
    "  else:\n",
    "    region.append(\"Pacific\")\n",
    "  "
   ]
  },
  {
   "cell_type": "code",
   "execution_count": null,
   "id": "87665489",
   "metadata": {},
   "outputs": [],
   "source": [
    "cus_"
   ]
  },
  {
   "cell_type": "code",
   "execution_count": null,
   "id": "7fcde757",
   "metadata": {},
   "outputs": [],
   "source": [
    " #3.1.2\n",
    "cust_ords_merge['region'] = region"
   ]
  },
  {
   "cell_type": "code",
   "execution_count": null,
   "id": "ff026268",
   "metadata": {},
   "outputs": [],
   "source": [
    "#3.2\n",
    "\n",
    "cust_ords_merge['region'].value_counts(dropna = False)"
   ]
  },
  {
   "cell_type": "code",
   "execution_count": null,
   "id": "2abe67f5",
   "metadata": {},
   "outputs": [],
   "source": []
  }
 ],
 "metadata": {
  "kernelspec": {
   "display_name": "Python 3",
   "language": "python",
   "name": "python3"
  },
  "language_info": {
   "codemirror_mode": {
    "name": "ipython",
    "version": 3
   },
   "file_extension": ".py",
   "mimetype": "text/x-python",
   "name": "python",
   "nbconvert_exporter": "python",
   "pygments_lexer": "ipython3",
   "version": "3.8.8"
  }
 },
 "nbformat": 4,
 "nbformat_minor": 5
}
